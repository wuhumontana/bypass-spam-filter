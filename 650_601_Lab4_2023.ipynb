{
  "nbformat": 4,
  "nbformat_minor": 0,
  "metadata": {
    "colab": {
      "provenance": []
    },
    "kernelspec": {
      "name": "python3",
      "display_name": "Python 3"
    },
    "language_info": {
      "name": "python"
    }
  },
  "cells": [
    {
      "cell_type": "markdown",
      "metadata": {
        "id": "HBdiD49e5Q7L"
      },
      "source": [
        "# **Lab 4: Adversarial Attacks Against Machine Learning Based Spam Filters**"
      ]
    },
    {
      "cell_type": "markdown",
      "source": [],
      "metadata": {
        "id": "mafdGzfSbQny"
      }
    },
    {
      "cell_type": "markdown",
      "metadata": {
        "id": "NPJYb7EA5a24"
      },
      "source": [
        "Please Type the Names of the Team Members:"
      ]
    },
    {
      "cell_type": "markdown",
      "metadata": {
        "id": "eSubQvScyKdQ"
      },
      "source": [
        "## **Introduction**\n",
        "Machine learning-based spam detection models learn from a set of labeled training data and detect spam emails. One class of vulnerabilities can help an attack to slightly modify the spam emails, called adversarial examples, to manipulate a trained model, e.g., a support vector machine(SVM) classifier, to misclassify maliciously during detection. However, feature extraction methods can make it difficult to translate numerical changes in the feature space, to needed changes to an email consisting of words.\n",
        "\n",
        "This lab uses a new attack method to understand how adversarial examples purposely modify the TF-IDF (term frequency-inverse document frequency) feature vector representing an email. A set of \"magic words\", or \"malicious words\" are identified from the TF-IDF vectors that experience the most significant changes made by a Projected Gradient Descent (PGD) algorithm. Adding these magic words to a spam email increases the chance for desirable misclassifications.\n",
        "\n",
        "## **Publications**\n",
        "\n",
        "For more information on this method, you can refer to the following publications:\n",
        "\n",
        "(1) C. Wang, D. Zhang, S. Huang, X. Li, and L. Ding, “Crafting Adversarial Email Content against Machine Learning Based Spam Email Detection,” In Proceedings of the 2021 International Symposium on Advanced Security on Software and Systems (ASSS ’21) with AsiaCCS 2021, Virtual Event, Hong Kong, June 7, 2021. [Download](https://isi.jhu.edu/wp-content/uploads/2021/04/ASSS_Workshop_Paper.pdf)\n",
        "\n",
        "(2) Q. Cheng, A. Xu, X. Li, and L. Ding, “Adversarial Email Generation against Spam Detection Models through Feature Perturbation,” The 2022 IEEE International Conference on Assured Autonomy (ICAA’22), Virtual Event, March 22-23, 2022. [Download](https://isi.jhu.edu/wp-content/uploads/2022/04/Adversarial_Attacks_Against_Machine_Learning_Based_SpamFilters__IEEE.pdf)"
      ]
    },
    {
      "cell_type": "markdown",
      "metadata": {
        "id": "Sv-y6Ac6FYWO"
      },
      "source": [
        "## **1. Loading Dataset**\n",
        "The dataset to be used is called Ling-Spam. The Ling-Spam dataset is a collection of 2,893 spam and ham email messages curated from the Linguist List. These messages focus on linguistic interests around job postings, research opportunities, and software discussion. You can download this dataset below coming with the lab assignment.\n",
        "\n",
        "### Acknowledgements\n",
        "The dataset and its information come from the original authors of \"A Memory-Based Approach to Anti-Spam Filtering for Mailing Lists\". \\\\\n",
        "\n",
        "**Run the code block below:**\n",
        "\n",
        "choose the message.csv to upload. Wait until it shows 100% before you continue. The below code is for the \"Google Colab\" environment, for another environment (like Jupyter Notebook), you can choose the corresponding upload function."
      ]
    },
    {
      "cell_type": "code",
      "metadata": {
        "id": "TXkAvUlp4fRP",
        "colab": {
          "base_uri": "https://localhost:8080/",
          "height": 74
        },
        "outputId": "8fa88ce4-8dc1-4018-98aa-179a3a2ac984"
      },
      "source": [
        "import pandas as pd\n",
        "from google.colab import files\n",
        "uploaded = files.upload()"
      ],
      "execution_count": 3,
      "outputs": [
        {
          "output_type": "display_data",
          "data": {
            "text/plain": [
              "<IPython.core.display.HTML object>"
            ],
            "text/html": [
              "\n",
              "     <input type=\"file\" id=\"files-2e057457-1d38-4e71-a3ba-e693c5c12676\" name=\"files[]\" multiple disabled\n",
              "        style=\"border:none\" />\n",
              "     <output id=\"result-2e057457-1d38-4e71-a3ba-e693c5c12676\">\n",
              "      Upload widget is only available when the cell has been executed in the\n",
              "      current browser session. Please rerun this cell to enable.\n",
              "      </output>\n",
              "      <script>// Copyright 2017 Google LLC\n",
              "//\n",
              "// Licensed under the Apache License, Version 2.0 (the \"License\");\n",
              "// you may not use this file except in compliance with the License.\n",
              "// You may obtain a copy of the License at\n",
              "//\n",
              "//      http://www.apache.org/licenses/LICENSE-2.0\n",
              "//\n",
              "// Unless required by applicable law or agreed to in writing, software\n",
              "// distributed under the License is distributed on an \"AS IS\" BASIS,\n",
              "// WITHOUT WARRANTIES OR CONDITIONS OF ANY KIND, either express or implied.\n",
              "// See the License for the specific language governing permissions and\n",
              "// limitations under the License.\n",
              "\n",
              "/**\n",
              " * @fileoverview Helpers for google.colab Python module.\n",
              " */\n",
              "(function(scope) {\n",
              "function span(text, styleAttributes = {}) {\n",
              "  const element = document.createElement('span');\n",
              "  element.textContent = text;\n",
              "  for (const key of Object.keys(styleAttributes)) {\n",
              "    element.style[key] = styleAttributes[key];\n",
              "  }\n",
              "  return element;\n",
              "}\n",
              "\n",
              "// Max number of bytes which will be uploaded at a time.\n",
              "const MAX_PAYLOAD_SIZE = 100 * 1024;\n",
              "\n",
              "function _uploadFiles(inputId, outputId) {\n",
              "  const steps = uploadFilesStep(inputId, outputId);\n",
              "  const outputElement = document.getElementById(outputId);\n",
              "  // Cache steps on the outputElement to make it available for the next call\n",
              "  // to uploadFilesContinue from Python.\n",
              "  outputElement.steps = steps;\n",
              "\n",
              "  return _uploadFilesContinue(outputId);\n",
              "}\n",
              "\n",
              "// This is roughly an async generator (not supported in the browser yet),\n",
              "// where there are multiple asynchronous steps and the Python side is going\n",
              "// to poll for completion of each step.\n",
              "// This uses a Promise to block the python side on completion of each step,\n",
              "// then passes the result of the previous step as the input to the next step.\n",
              "function _uploadFilesContinue(outputId) {\n",
              "  const outputElement = document.getElementById(outputId);\n",
              "  const steps = outputElement.steps;\n",
              "\n",
              "  const next = steps.next(outputElement.lastPromiseValue);\n",
              "  return Promise.resolve(next.value.promise).then((value) => {\n",
              "    // Cache the last promise value to make it available to the next\n",
              "    // step of the generator.\n",
              "    outputElement.lastPromiseValue = value;\n",
              "    return next.value.response;\n",
              "  });\n",
              "}\n",
              "\n",
              "/**\n",
              " * Generator function which is called between each async step of the upload\n",
              " * process.\n",
              " * @param {string} inputId Element ID of the input file picker element.\n",
              " * @param {string} outputId Element ID of the output display.\n",
              " * @return {!Iterable<!Object>} Iterable of next steps.\n",
              " */\n",
              "function* uploadFilesStep(inputId, outputId) {\n",
              "  const inputElement = document.getElementById(inputId);\n",
              "  inputElement.disabled = false;\n",
              "\n",
              "  const outputElement = document.getElementById(outputId);\n",
              "  outputElement.innerHTML = '';\n",
              "\n",
              "  const pickedPromise = new Promise((resolve) => {\n",
              "    inputElement.addEventListener('change', (e) => {\n",
              "      resolve(e.target.files);\n",
              "    });\n",
              "  });\n",
              "\n",
              "  const cancel = document.createElement('button');\n",
              "  inputElement.parentElement.appendChild(cancel);\n",
              "  cancel.textContent = 'Cancel upload';\n",
              "  const cancelPromise = new Promise((resolve) => {\n",
              "    cancel.onclick = () => {\n",
              "      resolve(null);\n",
              "    };\n",
              "  });\n",
              "\n",
              "  // Wait for the user to pick the files.\n",
              "  const files = yield {\n",
              "    promise: Promise.race([pickedPromise, cancelPromise]),\n",
              "    response: {\n",
              "      action: 'starting',\n",
              "    }\n",
              "  };\n",
              "\n",
              "  cancel.remove();\n",
              "\n",
              "  // Disable the input element since further picks are not allowed.\n",
              "  inputElement.disabled = true;\n",
              "\n",
              "  if (!files) {\n",
              "    return {\n",
              "      response: {\n",
              "        action: 'complete',\n",
              "      }\n",
              "    };\n",
              "  }\n",
              "\n",
              "  for (const file of files) {\n",
              "    const li = document.createElement('li');\n",
              "    li.append(span(file.name, {fontWeight: 'bold'}));\n",
              "    li.append(span(\n",
              "        `(${file.type || 'n/a'}) - ${file.size} bytes, ` +\n",
              "        `last modified: ${\n",
              "            file.lastModifiedDate ? file.lastModifiedDate.toLocaleDateString() :\n",
              "                                    'n/a'} - `));\n",
              "    const percent = span('0% done');\n",
              "    li.appendChild(percent);\n",
              "\n",
              "    outputElement.appendChild(li);\n",
              "\n",
              "    const fileDataPromise = new Promise((resolve) => {\n",
              "      const reader = new FileReader();\n",
              "      reader.onload = (e) => {\n",
              "        resolve(e.target.result);\n",
              "      };\n",
              "      reader.readAsArrayBuffer(file);\n",
              "    });\n",
              "    // Wait for the data to be ready.\n",
              "    let fileData = yield {\n",
              "      promise: fileDataPromise,\n",
              "      response: {\n",
              "        action: 'continue',\n",
              "      }\n",
              "    };\n",
              "\n",
              "    // Use a chunked sending to avoid message size limits. See b/62115660.\n",
              "    let position = 0;\n",
              "    do {\n",
              "      const length = Math.min(fileData.byteLength - position, MAX_PAYLOAD_SIZE);\n",
              "      const chunk = new Uint8Array(fileData, position, length);\n",
              "      position += length;\n",
              "\n",
              "      const base64 = btoa(String.fromCharCode.apply(null, chunk));\n",
              "      yield {\n",
              "        response: {\n",
              "          action: 'append',\n",
              "          file: file.name,\n",
              "          data: base64,\n",
              "        },\n",
              "      };\n",
              "\n",
              "      let percentDone = fileData.byteLength === 0 ?\n",
              "          100 :\n",
              "          Math.round((position / fileData.byteLength) * 100);\n",
              "      percent.textContent = `${percentDone}% done`;\n",
              "\n",
              "    } while (position < fileData.byteLength);\n",
              "  }\n",
              "\n",
              "  // All done.\n",
              "  yield {\n",
              "    response: {\n",
              "      action: 'complete',\n",
              "    }\n",
              "  };\n",
              "}\n",
              "\n",
              "scope.google = scope.google || {};\n",
              "scope.google.colab = scope.google.colab || {};\n",
              "scope.google.colab._files = {\n",
              "  _uploadFiles,\n",
              "  _uploadFilesContinue,\n",
              "};\n",
              "})(self);\n",
              "</script> "
            ]
          },
          "metadata": {}
        },
        {
          "output_type": "stream",
          "name": "stdout",
          "text": [
            "Saving messages.csv to messages.csv\n"
          ]
        }
      ]
    },
    {
      "cell_type": "markdown",
      "metadata": {
        "id": "1re2gZWrle_P"
      },
      "source": [
        "**Run the code block below:**\n",
        "\n",
        "This splits the loaded dataset into three subsets of training, validation, and testing."
      ]
    },
    {
      "cell_type": "code",
      "metadata": {
        "id": "CZvxGJk-rkkc"
      },
      "source": [
        "from sklearn.model_selection import train_test_split\n",
        "\n",
        "\n",
        "def data_extraction():\n",
        "\n",
        "  # Change the 'messages.csv' to the filename you uploaded.\n",
        "  df = pd.read_csv('messages.csv')\n",
        "  x = df.message\n",
        "  y = df.label\n",
        "  # We first separate the entire dataset to 80% and 20%.\n",
        "  # Let the 80% of entire dataset becoming the first dataset(which will be split to traning dataset and the validation dataset), and let the 20% of entire dataset becoming the testing dataset.\n",
        "  x_train_val, x_test, y_train_val, y_test = train_test_split(x, y, test_size=0.2, random_state=99, stratify=y)\n",
        "  # Let the 80% of the train_val dataset be the traning dataset, and the 20% of the train_val dataset be the validation dataset.\n",
        "  x_train, x_val, y_train, y_val = train_test_split(x_train_val, y_train_val, test_size=0.2, random_state=99, stratify=y_train_val)\n",
        "\n",
        "\n",
        "  return x_train, x_val, x_test, y_train, y_val, y_test\n",
        "\n",
        "\n"
      ],
      "execution_count": 4,
      "outputs": []
    },
    {
      "cell_type": "code",
      "source": [
        "X_train, X_val, X_test, Y_train, Y_val, Y_test = data_extraction()\n",
        "print(X_train)"
      ],
      "metadata": {
        "colab": {
          "base_uri": "https://localhost:8080/"
        },
        "id": "I2aXVdK7DLuy",
        "outputId": "b5bd7d17-87b4-4e08-9d5b-f4d11189066c"
      },
      "execution_count": 5,
      "outputs": [
        {
          "output_type": "stream",
          "name": "stdout",
          "text": [
            "2345    crossing boundaries : interdisciplinary approa...\n",
            "2664    this is not spam ; you are receiving this mess...\n",
            "1049    computational aspects of cognitive science nsf...\n",
            "1560    dear subscribers : the linguist list has just ...\n",
            "2167    i would like to know of sources for bengali so...\n",
            "                              ...                        \n",
            "2598    = 20 the virtual girlfriend and virtual boyfri...\n",
            "1310    learn to put angels to work ! angels are anoth...\n",
            "1906    call for papers sixth workshop on very large c...\n",
            "2286    for some time , i have been puzzled by a claim...\n",
            "191                       how to get on elsnet ? thanks\\n\n",
            "Name: message, Length: 1851, dtype: object\n"
          ]
        }
      ]
    },
    {
      "cell_type": "markdown",
      "metadata": {
        "id": "nFUv7AmsFW8e"
      },
      "source": [
        "In the code block above, we have read the dataset into variables x\n",
        "and y. Variable x contains the email body in a list of words and variable y contains the class labels with 0 being ham and 1 being spam."
      ]
    },
    {
      "cell_type": "markdown",
      "source": [
        "We divide the entire data set randomly into three different data sets which are training data, validation data, and testing data. After we split the dataset twice: 64% of the entire dataset becomes the traning dataset(Y_train), 16% becomes the validation dataset(X_val), and 20% becomes the testing dataset(X_test).\n"
      ],
      "metadata": {
        "id": "_w-WXw69wAT6"
      }
    },
    {
      "cell_type": "markdown",
      "source": [
        "### **Question 1**\n",
        "\n",
        "Why do we need the three data subsets described above? Please explain what is a training dataset, a validation dataset, and a testing dataset. For some additional insights, you can refer to the article at https://towardsdatascience.com/train-validation-and-test-sets-72cb40cba9e7. (However, note that the validation dataset is also used to identify the magical words in this lab, kind of different from its typical use.)"
      ],
      "metadata": {
        "id": "yCGLR9neo8zL"
      }
    },
    {
      "cell_type": "markdown",
      "source": [],
      "metadata": {
        "id": "T9JcMkUm0FI9"
      }
    },
    {
      "cell_type": "markdown",
      "metadata": {
        "id": "3KJ7iGauJih3"
      },
      "source": [
        "## **2. Preprocessing the Emails**\n",
        "For preparation for use, we remove all the HTML tags, numbers, punctuation marks, and English stop words to keep only useful information. We also convert all the words to lowercase and each paragraph into a single line instead of multiple lines. In the last step of preprocessing, we conduct stemming on all the words. \\\\\n",
        "\n",
        "\\\\\n",
        "**Run the code block below:**"
      ]
    },
    {
      "cell_type": "code",
      "metadata": {
        "id": "ZfS6VpTaH7Wu",
        "colab": {
          "base_uri": "https://localhost:8080/"
        },
        "outputId": "c74c6938-2a51-43d9-c8e0-157cf60452e9"
      },
      "source": [
        "import re\n",
        "import string\n",
        "import nltk\n",
        "from nltk.tokenize import word_tokenize\n",
        "from sklearn.feature_extraction._stop_words import ENGLISH_STOP_WORDS\n",
        "from nltk.stem import PorterStemmer\n",
        "from nltk.stem import WordNetLemmatizer\n",
        "\n",
        "nltk.download('punkt')\n",
        "nltk.download('wordnet')\n",
        "nltk.download('omw-1.4')\n",
        "\n",
        "\n",
        "# Remove the hyperlink.\n",
        "def remove_hyperlink(word):\n",
        "\n",
        "    return re.sub(r\"http\\S+\", \" \", word)\n",
        "\n",
        "\n",
        "# Convert the letter to lowercase.\n",
        "def to_lower(word):\n",
        "    result = word.lower()\n",
        "\n",
        "    return result\n",
        "\n",
        "\n",
        "# Remove the numbers.\n",
        "def remove_number(word):\n",
        "    result = re.sub(r'\\d+', ' ', word)\n",
        "\n",
        "    return result\n",
        "\n",
        "\n",
        "# Remove the puncturations.\n",
        "def remove_punctuation(word):\n",
        "    result = word.translate(str.maketrans(dict.fromkeys(string.punctuation)))\n",
        "\n",
        "    return result\n",
        "\n",
        "\n",
        "# Remove the whitespace.\n",
        "def remove_whitespace(word):\n",
        "    result = word.strip()\n",
        "\n",
        "    return result\n",
        "\n",
        "\n",
        "# Merge multiple lines into one line.\n",
        "def replace_newline(word):\n",
        "\n",
        "    return word.replace('\\n', ' ')\n",
        "\n",
        "\n",
        "def clean_up_pipeline(sentence):\n",
        "    cleaning_utils = [remove_hyperlink, replace_newline, to_lower, remove_number, remove_punctuation, remove_whitespace]\n",
        "    for o in cleaning_utils:\n",
        "        sentence = o(sentence)\n",
        "\n",
        "    return sentence\n",
        "\n",
        "\n",
        "# Remove the stopwords, for example: a, and, an, above, ..., etc.\n",
        "def remove_stop_words(words):\n",
        "    result = [i for i in words if i not in ENGLISH_STOP_WORDS]\n",
        "\n",
        "    return result\n",
        "\n",
        "\n",
        "# Reduce a word to its root word.\n",
        "def word_stemmer(words):\n",
        "    stemmer = PorterStemmer()\n",
        "\n",
        "    return [stemmer.stem(o) for o in words]\n",
        "\n",
        "\n",
        "# Remove inflectional endings only and to return the base.\n",
        "def word_lemmatizer(words):\n",
        "    lemmatizer = WordNetLemmatizer()\n",
        "\n",
        "    return [lemmatizer.lemmatize(o) for o in words]\n",
        "\n",
        "\n",
        "# Clear out the unnecessary information.\n",
        "def clean_token_pipeline(words):\n",
        "    cleaning_utils = [remove_stop_words, word_lemmatizer]\n",
        "\n",
        "    for o in cleaning_utils:\n",
        "        words = o(words)\n",
        "\n",
        "    return words\n",
        "\n",
        "\n",
        "def preprocess(X_train, X_val, X_test):\n",
        "    x_train_clean = [clean_up_pipeline(o) for o in X_train]\n",
        "    x_test_clean = [clean_up_pipeline(o) for o in X_test]\n",
        "    x_val_clean = [clean_up_pipeline(o) for o in X_val]\n",
        "    x_train_tokenize = [word_tokenize(o) for o in x_train_clean]\n",
        "    x_test_tokenize = [word_tokenize(o) for o in x_test_clean]\n",
        "    x_val_tokenize = [word_tokenize(o) for o in x_val_clean]\n",
        "    x_train_clean_token = [clean_token_pipeline(o) for o in x_train_tokenize]\n",
        "    x_test_clean_token = [clean_token_pipeline(o) for o in x_test_tokenize]\n",
        "    x_val_clean_token = [clean_token_pipeline(o) for o in x_val_tokenize]\n",
        "    x_train = [\" \".join(o) for o in x_train_clean_token]\n",
        "    x_test = [\" \".join(o) for o in x_test_clean_token]\n",
        "    x_val = [\" \".join(o) for o in x_val_clean_token]\n",
        "\n",
        "    return x_train, x_val, x_test\n",
        "\n"
      ],
      "execution_count": 6,
      "outputs": [
        {
          "output_type": "stream",
          "name": "stderr",
          "text": [
            "[nltk_data] Downloading package punkt to /root/nltk_data...\n",
            "[nltk_data]   Unzipping tokenizers/punkt.zip.\n",
            "[nltk_data] Downloading package wordnet to /root/nltk_data...\n",
            "[nltk_data] Downloading package omw-1.4 to /root/nltk_data...\n"
          ]
        }
      ]
    },
    {
      "cell_type": "code",
      "metadata": {
        "id": "QoPue9h3Ik--",
        "colab": {
          "base_uri": "https://localhost:8080/"
        },
        "outputId": "ebdc1d88-c1b1-4a84-8c61-49a5207ef57f"
      },
      "source": [
        "x_train, x_val, x_test = preprocess(X_train, X_val, X_test)\n",
        "print(x_train[0])"
      ],
      "execution_count": 7,
      "outputs": [
        {
          "output_type": "stream",
          "name": "stdout",
          "text": [
            "crossing boundary interdisciplinary approach latin america th june nd july paper international conference aim explore contemporary cultural debate taking place latin america draw various strand debate multidisciplinary forum paper consider various issue modernization hybridity transculturation apply various field study paper welcome following field cultural study literature particularly looking trend contemporary narrative including neoavantgarde popular fiction drama study cinema gender study popular culture comparative literature anthropology ethnography sociology linguistics economics politics law symposium proposed far include exile latin american experience indigenismo negrismo u s latin america paper longer minute abstract word english spanish portuguese sent preferably email conference organiser department language cultural study university limerick ireland st january conference organizer nuala finnegan kate quinn nancy serrano department language cultural study university limerick limerick ireland tel fax email nuala finnegan ul kate quinn ul nancy serrano ul update visit webpage http www ul neylonm conf html mr michele j neylon department language cultural study university limerick limerick ireland tel http www ul neylonm index html\n"
          ]
        }
      ]
    },
    {
      "cell_type": "markdown",
      "metadata": {
        "id": "N68YIZqIJmc8"
      },
      "source": [
        "## **3. Feature Extraction**\n",
        "In this step, we convert the words of an email into a numerical feature vector, representing information of that email used for classification. Among many such methods, this lab will use TF-IDF. \\\\\n",
        "\n",
        "\\\\\n",
        "**Run the code block below:**"
      ]
    },
    {
      "cell_type": "code",
      "metadata": {
        "id": "wlpwcsgxJrMK"
      },
      "source": [
        "from sklearn.feature_extraction.text import TfidfVectorizer\n",
        "import numpy as np\n",
        "import pandas as pd\n",
        "from scipy import sparse\n",
        "\n",
        "\n",
        "vectorizer = TfidfVectorizer()\n",
        "\n",
        "\n",
        "def convert_to_feature(raw_tokenize_data):\n",
        "    raw_sentences = [' '.join(o) for o in raw_tokenize_data]\n",
        "\n",
        "\n",
        "    return vectorizer.transform(raw_sentences)\n",
        "\n",
        "\n",
        "def TfidfConvert(x_train, x_test, x_val):\n",
        "    x_train = [o.split(\" \") for o in x_train]\n",
        "    x_test = [o.split(\" \") for o in x_test]\n",
        "    x_val = [o.split(\" \") for o in x_val]\n",
        "    x_train_raw_sentences = [' '.join(o) for o in x_train]\n",
        "    x_val_raw_sentences = [' '.join(o) for o in x_val]\n",
        "    raw_sentences = x_train_raw_sentences + x_val_raw_sentences\n",
        "    vectorizer.fit(raw_sentences)\n",
        "    x_train_features = convert_to_feature(x_train)\n",
        "    x_test_features = convert_to_feature(x_test)\n",
        "    x_val_features = convert_to_feature(x_val)\n",
        "\n",
        "\n",
        "    return x_train_features, x_test_features, x_val_features\n",
        "\n",
        "\n",
        "def feature_extraction(x_train, x_test, x_val):\n",
        "    x_train_features, x_test_features, x_val_features = TfidfConvert(x_train, x_test, x_val)\n",
        "    feature_names = vectorizer.get_feature_names_out()\n",
        "\n",
        "\n",
        "    return x_train_features, x_test_features, x_val_features, feature_names, vectorizer, 'NaN'\n",
        "\n"
      ],
      "execution_count": 8,
      "outputs": []
    },
    {
      "cell_type": "code",
      "source": [
        "x_train_features, x_test_features, x_val_features, feature_names, feature_model, scalar = feature_extraction(x_train, x_test, x_val)\n",
        "print(x_train_features[0])"
      ],
      "metadata": {
        "colab": {
          "base_uri": "https://localhost:8080/"
        },
        "id": "hKUZs88oPQHI",
        "outputId": "44b8e842-dbcb-4c03-8374-fe605f11d6fe"
      },
      "execution_count": 9,
      "outputs": [
        {
          "output_type": "stream",
          "name": "stdout",
          "text": [
            "  (0, 46915)\t0.04995978886526812\n",
            "  (0, 46730)\t0.026339130425117322\n",
            "  (0, 46165)\t0.03947622319623475\n",
            "  (0, 46079)\t0.06738406036802615\n",
            "  (0, 45493)\t0.03977700013803277\n",
            "  (0, 44952)\t0.11181744754489616\n",
            "  (0, 44510)\t0.05387580457773005\n",
            "  (0, 44287)\t0.05652241413306133\n",
            "  (0, 43822)\t0.39223155312672875\n",
            "  (0, 43108)\t0.05387580457773005\n",
            "  (0, 42967)\t0.0908369729508178\n",
            "  (0, 42072)\t0.030422891994938406\n",
            "  (0, 41738)\t0.06769249607229276\n",
            "  (0, 41428)\t0.048286013617079605\n",
            "  (0, 41191)\t0.04694320656689324\n",
            "  (0, 40461)\t0.19504586281354305\n",
            "  (0, 40305)\t0.06889008975885552\n",
            "  (0, 39907)\t0.03693578685843772\n",
            "  (0, 39508)\t0.04349896974284344\n",
            "  (0, 39172)\t0.05649942743338347\n",
            "  (0, 38027)\t0.16100523653488252\n",
            "  (0, 37928)\t0.030967851468981452\n",
            "  (0, 34352)\t0.17252789630588594\n",
            "  (0, 33761)\t0.04616507275000695\n",
            "  (0, 33177)\t0.0501113548214093\n",
            "  :\t:\n",
            "  (0, 13380)\t0.06972591406926394\n",
            "  (0, 12783)\t0.0246562433322136\n",
            "  (0, 12483)\t0.041289338232556635\n",
            "  (0, 11958)\t0.07062867309774853\n",
            "  (0, 11523)\t0.05888267005040001\n",
            "  (0, 11514)\t0.07670772728645273\n",
            "  (0, 10125)\t0.08933026508123723\n",
            "  (0, 9695)\t0.1069160716428519\n",
            "  (0, 9244)\t0.04292046002028455\n",
            "  (0, 9241)\t0.22520700443678604\n",
            "  (0, 9076)\t0.06889008975885552\n",
            "  (0, 8369)\t0.10861929050505036\n",
            "  (0, 8234)\t0.04777903087730166\n",
            "  (0, 8081)\t0.08352754338572378\n",
            "  (0, 8077)\t0.07062867309774853\n",
            "  (0, 7754)\t0.04494458941831987\n",
            "  (0, 7015)\t0.06889008975885552\n",
            "  (0, 4975)\t0.0522902557019614\n",
            "  (0, 2178)\t0.032362762060562905\n",
            "  (0, 2145)\t0.04741321069356958\n",
            "  (0, 1910)\t0.05387580457773005\n",
            "  (0, 1450)\t0.03684140583158037\n",
            "  (0, 1447)\t0.12876138006085366\n",
            "  (0, 925)\t0.039241246636864915\n",
            "  (0, 179)\t0.030829123189868607\n"
          ]
        }
      ]
    },
    {
      "cell_type": "markdown",
      "metadata": {
        "id": "MND-TjQRXkpq"
      },
      "source": [
        "### **Question 2**\n",
        "Please research TF-IDF online and provide a concise explanation of how it is done in your own words in one paragraph."
      ]
    },
    {
      "cell_type": "markdown",
      "metadata": {
        "id": "TAbh0HSVrCQd"
      },
      "source": []
    },
    {
      "cell_type": "markdown",
      "metadata": {
        "id": "k0RZeCBFLSH9"
      },
      "source": [
        "## **4. Training SVM**\n",
        "In this step, we will train a Support Vector Machine (SVM) model as a spam filter. Then we use the validation dataset to evaluate how it performs.\n",
        "\n",
        "**Run the code block below:**"
      ]
    },
    {
      "cell_type": "code",
      "metadata": {
        "id": "kAeBdHNfLM7k",
        "colab": {
          "base_uri": "https://localhost:8080/"
        },
        "outputId": "735b6b08-60b9-4398-812e-8d0881830bfb"
      },
      "source": [
        "!pip install secml\n",
        "from secml.data import CDataset\n",
        "from secml.data.splitter import CDataSplitterKFold\n",
        "from secml.ml.classifiers import CClassifierSVM\n",
        "from secml.ml.peval.metrics import CMetricAccuracy\n",
        "from secml.ml.peval.metrics import CMetricConfusionMatrix\n",
        "from secml.adv.attacks.evasion import CAttackEvasionPGD\n",
        "# from Feature_extraction import single_transform\n",
        "import csv\n",
        "from statistics import mean, stdev\n",
        "import threading\n",
        "import time\n",
        "\n",
        "\n",
        "# We use the training data and validation data set to train the SVM model.\n",
        "def train_SVM(x_train_features, x_val_features, y_train, y_val):\n",
        "    tr_set = CDataset(x_train_features, y_train)\n",
        "    # Train the SVM\n",
        "    print(\"Build SVM\")\n",
        "    xval_splitter = CDataSplitterKFold()\n",
        "    clf_lin = CClassifierSVM()\n",
        "    xval_lin_params = {'C': [1]}\n",
        "    print(\"Find the best params\")\n",
        "    best_lin_params = clf_lin.estimate_parameters(\n",
        "        dataset=tr_set,\n",
        "        parameters=xval_lin_params,\n",
        "        splitter=xval_splitter,\n",
        "        metric='accuracy',\n",
        "        perf_evaluator='xval'\n",
        "    )\n",
        "    print(\"Finish Train\")\n",
        "    print(\"The best training parameters are: \", [\n",
        "          (k, best_lin_params[k]) for k in sorted(best_lin_params)])\n",
        "    print(\"Train SVM\")\n",
        "    clf_lin.fit(tr_set.X, tr_set.Y)\n",
        "\n",
        "    # Test the Classifier\n",
        "    v_set = CDataset(x_val_features, y_val)\n",
        "    y_pred = clf_lin.predict(v_set.X)\n",
        "    metric = CMetricAccuracy()\n",
        "    acc = metric.performance_score(y_true=v_set.Y, y_pred=y_pred)\n",
        "    confusion_matrix = CMetricConfusionMatrix()\n",
        "    cm = confusion_matrix.performance_score(y_true=v_set.Y, y_pred=y_pred)\n",
        "    print(\"Confusion Matrix: \")\n",
        "    print(cm)\n",
        "\n",
        "\n",
        "    return tr_set, v_set, clf_lin\n",
        "\n"
      ],
      "execution_count": 10,
      "outputs": [
        {
          "output_type": "stream",
          "name": "stdout",
          "text": [
            "Collecting secml\n",
            "  Downloading secml-0.15.6-py3-none-any.whl (463 kB)\n",
            "\u001b[2K     \u001b[90m━━━━━━━━━━━━━━━━━━━━━━━━━━━━━━━━━━━━━━━━\u001b[0m \u001b[32m464.0/464.0 kB\u001b[0m \u001b[31m4.8 MB/s\u001b[0m eta \u001b[36m0:00:00\u001b[0m\n",
            "\u001b[?25hRequirement already satisfied: numpy>=1.17 in /usr/local/lib/python3.10/dist-packages (from secml) (1.23.5)\n",
            "Requirement already satisfied: scipy>=1.3.2 in /usr/local/lib/python3.10/dist-packages (from secml) (1.11.3)\n",
            "Requirement already satisfied: matplotlib>=3 in /usr/local/lib/python3.10/dist-packages (from secml) (3.7.1)\n",
            "Requirement already satisfied: scikit-learn>=0.22 in /usr/local/lib/python3.10/dist-packages (from secml) (1.2.2)\n",
            "Requirement already satisfied: joblib>=0.14 in /usr/local/lib/python3.10/dist-packages (from secml) (1.3.2)\n",
            "Requirement already satisfied: Pillow>=6.2.1 in /usr/local/lib/python3.10/dist-packages (from secml) (9.4.0)\n",
            "Requirement already satisfied: requests in /usr/local/lib/python3.10/dist-packages (from secml) (2.31.0)\n",
            "Requirement already satisfied: python-dateutil in /usr/local/lib/python3.10/dist-packages (from secml) (2.8.2)\n",
            "Requirement already satisfied: contourpy>=1.0.1 in /usr/local/lib/python3.10/dist-packages (from matplotlib>=3->secml) (1.1.1)\n",
            "Requirement already satisfied: cycler>=0.10 in /usr/local/lib/python3.10/dist-packages (from matplotlib>=3->secml) (0.12.1)\n",
            "Requirement already satisfied: fonttools>=4.22.0 in /usr/local/lib/python3.10/dist-packages (from matplotlib>=3->secml) (4.43.1)\n",
            "Requirement already satisfied: kiwisolver>=1.0.1 in /usr/local/lib/python3.10/dist-packages (from matplotlib>=3->secml) (1.4.5)\n",
            "Requirement already satisfied: packaging>=20.0 in /usr/local/lib/python3.10/dist-packages (from matplotlib>=3->secml) (23.2)\n",
            "Requirement already satisfied: pyparsing>=2.3.1 in /usr/local/lib/python3.10/dist-packages (from matplotlib>=3->secml) (3.1.1)\n",
            "Requirement already satisfied: six>=1.5 in /usr/local/lib/python3.10/dist-packages (from python-dateutil->secml) (1.16.0)\n",
            "Requirement already satisfied: threadpoolctl>=2.0.0 in /usr/local/lib/python3.10/dist-packages (from scikit-learn>=0.22->secml) (3.2.0)\n",
            "Requirement already satisfied: charset-normalizer<4,>=2 in /usr/local/lib/python3.10/dist-packages (from requests->secml) (3.3.1)\n",
            "Requirement already satisfied: idna<4,>=2.5 in /usr/local/lib/python3.10/dist-packages (from requests->secml) (3.4)\n",
            "Requirement already satisfied: urllib3<3,>=1.21.1 in /usr/local/lib/python3.10/dist-packages (from requests->secml) (2.0.7)\n",
            "Requirement already satisfied: certifi>=2017.4.17 in /usr/local/lib/python3.10/dist-packages (from requests->secml) (2023.7.22)\n",
            "Installing collected packages: secml\n",
            "Successfully installed secml-0.15.6\n",
            "2023-11-04 01:55:06,026 - secml.settings - INFO - New `SECML_HOME_DIR` created: /root/secml-data\n",
            "2023-11-04 01:55:06,026 - secml.settings - INFO - New `SECML_HOME_DIR` created: /root/secml-data\n"
          ]
        },
        {
          "output_type": "stream",
          "name": "stderr",
          "text": [
            "INFO:secml.settings:New `SECML_HOME_DIR` created: /root/secml-data\n"
          ]
        },
        {
          "output_type": "stream",
          "name": "stdout",
          "text": [
            "2023-11-04 01:55:06,039 - secml.settings - INFO - Default configuration file copied to: /root/secml-data/secml.conf\n",
            "2023-11-04 01:55:06,039 - secml.settings - INFO - Default configuration file copied to: /root/secml-data/secml.conf\n"
          ]
        },
        {
          "output_type": "stream",
          "name": "stderr",
          "text": [
            "INFO:secml.settings:Default configuration file copied to: /root/secml-data/secml.conf\n"
          ]
        },
        {
          "output_type": "stream",
          "name": "stdout",
          "text": [
            "2023-11-04 01:55:06,045 - secml.settings - INFO - New `SECML_DS_DIR` created: /root/secml-data/datasets\n",
            "2023-11-04 01:55:06,045 - secml.settings - INFO - New `SECML_DS_DIR` created: /root/secml-data/datasets\n"
          ]
        },
        {
          "output_type": "stream",
          "name": "stderr",
          "text": [
            "INFO:secml.settings:New `SECML_DS_DIR` created: /root/secml-data/datasets\n"
          ]
        },
        {
          "output_type": "stream",
          "name": "stdout",
          "text": [
            "2023-11-04 01:55:06,054 - secml.settings - INFO - New `SECML_MODELS_DIR` created: /root/secml-data/models\n",
            "2023-11-04 01:55:06,054 - secml.settings - INFO - New `SECML_MODELS_DIR` created: /root/secml-data/models\n"
          ]
        },
        {
          "output_type": "stream",
          "name": "stderr",
          "text": [
            "INFO:secml.settings:New `SECML_MODELS_DIR` created: /root/secml-data/models\n"
          ]
        },
        {
          "output_type": "stream",
          "name": "stdout",
          "text": [
            "2023-11-04 01:55:06,059 - secml.settings - INFO - New `SECML_EXP_DIR` created: /root/secml-data/experiments\n",
            "2023-11-04 01:55:06,059 - secml.settings - INFO - New `SECML_EXP_DIR` created: /root/secml-data/experiments\n"
          ]
        },
        {
          "output_type": "stream",
          "name": "stderr",
          "text": [
            "INFO:secml.settings:New `SECML_EXP_DIR` created: /root/secml-data/experiments\n"
          ]
        },
        {
          "output_type": "stream",
          "name": "stdout",
          "text": [
            "2023-11-04 01:55:06,065 - secml.settings - INFO - New `SECML_LOGS_DIR` created: /root/secml-data/logs\n",
            "2023-11-04 01:55:06,065 - secml.settings - INFO - New `SECML_LOGS_DIR` created: /root/secml-data/logs\n"
          ]
        },
        {
          "output_type": "stream",
          "name": "stderr",
          "text": [
            "INFO:secml.settings:New `SECML_LOGS_DIR` created: /root/secml-data/logs\n"
          ]
        },
        {
          "output_type": "stream",
          "name": "stdout",
          "text": [
            "2023-11-04 01:55:06,071 - secml.settings - INFO - New `SECML_PYTORCH_DIR` created: /root/secml-data/pytorch-data\n",
            "2023-11-04 01:55:06,071 - secml.settings - INFO - New `SECML_PYTORCH_DIR` created: /root/secml-data/pytorch-data\n"
          ]
        },
        {
          "output_type": "stream",
          "name": "stderr",
          "text": [
            "INFO:secml.settings:New `SECML_PYTORCH_DIR` created: /root/secml-data/pytorch-data\n"
          ]
        }
      ]
    },
    {
      "cell_type": "code",
      "source": [
        "tr_set, v_set, clf_lin = train_SVM(x_train_features, x_val_features, Y_train, Y_val)"
      ],
      "metadata": {
        "colab": {
          "base_uri": "https://localhost:8080/"
        },
        "id": "bi5HMdEVQ3a4",
        "outputId": "e48e7f8a-0c93-478c-bfe0-149be61e9cb4"
      },
      "execution_count": 11,
      "outputs": [
        {
          "output_type": "stream",
          "name": "stdout",
          "text": [
            "Build SVM\n",
            "Find the best params\n",
            "Finish Train\n",
            "The best training parameters are:  [('C', 1)]\n",
            "Train SVM\n",
            "Confusion Matrix: \n",
            "CArray([[386   0]\n",
            " [  6  71]])\n"
          ]
        }
      ]
    },
    {
      "cell_type": "markdown",
      "metadata": {
        "id": "vL1ZOAYQN12a"
      },
      "source": [
        "### **Question 3**\n",
        "Based on the provided confusion matrix in the output above, calculate the accuracy, false-positive rate, false-negative rate, true-positive rate, and true-negative rate. Please detail the necessary steps and include the results in the following text block. Additionally, provide an explanation for each of these metrics in the context of spam email detection."
      ]
    },
    {
      "cell_type": "markdown",
      "metadata": {
        "id": "H-UG3wUYOaLG"
      },
      "source": []
    },
    {
      "cell_type": "markdown",
      "metadata": {
        "id": "5rKjzZTCO5N2"
      },
      "source": [
        "## **5. PGD Attack**\n",
        "Adversarial perturbations are made to input features, i.e., the TF-IDF values corresponding to words. We employ the Projected Gradient Descent (PGD) method to modify the feature values for desirable adversarial examples in the feature domain. PGD algorithm iteratively finds the needed changes with a constraint parameter, *dmax*, which is the Euclidean distance to the original input indicating the allowed extent of perturbation, to achieve the maximum loss in classification. In our approach, we run PGD over a set of randomly selected spam emails form the validation sataset to generate adversarial examples in the feature space. Then we test these modified TF-IDF vectors to see whether they could successfully bypass the detection. \\\\\n",
        "\n",
        "\\\\\n",
        "**Run the code block below:**"
      ]
    },
    {
      "cell_type": "markdown",
      "source": [
        "**Note:**\n",
        "These are explanations for the terms used in the code:\n",
        "\n",
        "1. `clf_lin` - SVM Classifier:\n",
        "   - Represents a Support Vector Machine (SVM) classifier for email classification.\n",
        "\n",
        "2. `tr_set` - Training Set:\n",
        "   - A dataset used for training the SVM classifier, containing input features and labels.\n",
        "\n",
        "3. `v_set` - Validation Set:\n",
        "   - A dataset used to identify the \"best\" magic words through PGD.\n",
        "\n",
        "4. `Y_val` - Validation Set Labels:\n",
        "   - Contains labels for the validation set, aiding in performance evaluation.\n",
        "\n",
        "5. `feature_names` - Name of the Features:\n",
        "   - Likely holds the names or labels of the dataset's features.\n",
        "\n",
        "6. `nb_attack` - Number of Attacks:\n",
        "   - Determines how many adversarial examples should be generated (the number of spam emails to modify by PGD).\n",
        "\n",
        "7. `dmax` - Maximum Perturbation Distance:\n",
        "   - Represents the maximum allowed change in feature values during adversarial attacks, measured as Euclidean distance.\n",
        "\n",
        "8. `lb` - Lower Bound:\n",
        "   - Sets a lower boundary on feature values, constraining perturbations during attacks.\n",
        "\n",
        "9. `ub` - Upper Bound:\n",
        "   - Defines an upper boundary on feature values, limiting perturbations during attacks.\n"
      ],
      "metadata": {
        "id": "Ix7GUWE6yAxQ"
      }
    },
    {
      "cell_type": "code",
      "metadata": {
        "id": "lCvPfWA-P1OG"
      },
      "source": [
        "def pgd_attack(clf_lin, tr_set, v_set, y_val, feature_names, nb_attack, dmax, lb, ub):\n",
        "\n",
        "    class_to_attack = 1\n",
        "    cnt = 0  # the number of success adversaril examples\n",
        "    ori_examples2_x = []\n",
        "    ori_examples2_y = []\n",
        "\n",
        "    for i in range(nb_attack):\n",
        "        # take a point at random being the starting point of the attack\n",
        "        idx_candidates = np.where(y_val == class_to_attack)\n",
        "        # select nb_init_pts points randomly in candidates and make them move\n",
        "        rn = np.random.choice(idx_candidates[0].size, 1)\n",
        "        x0, y0 = v_set[idx_candidates[0][rn[0]], :].X, v_set[idx_candidates[0][rn[0]], :].Y\n",
        "\n",
        "        x0 = x0.astype(float)\n",
        "        y0 = y0.astype(int)\n",
        "        x2 = x0.tondarray()[0]\n",
        "        y2 = y0.tondarray()[0]\n",
        "\n",
        "        ori_examples2_x.append(x2)\n",
        "        ori_examples2_y.append(y2)\n",
        "\n",
        "\n",
        "    # Perform adversarial attacks\n",
        "\n",
        "    noise_type = 'l2'  # Type of perturbation 'l1' or 'l2'\n",
        "\n",
        "    y_target = 0\n",
        "\n",
        "    # dmax = 0.09  # Maximum perturbation\n",
        "\n",
        "    # Bounds of the attack space. Can be set to `None` for unbounded\n",
        "    solver_params = {\n",
        "        'eta': 0.01,\n",
        "        'max_iter': 1000,\n",
        "        'eps': 1e-4}\n",
        "\n",
        "    # set lower bound and upper bound respectively to 0 and 1 since all features are Boolean\n",
        "    pgd_attack = CAttackEvasionPGD(\n",
        "        classifier=clf_lin,\n",
        "        double_init_ds=tr_set,\n",
        "        distance=noise_type,\n",
        "        dmax=dmax,\n",
        "        lb=lb, ub=ub,\n",
        "        solver_params=solver_params,\n",
        "        y_target=y_target\n",
        "    )\n",
        "\n",
        "    ad_examples_x = []\n",
        "    ad_examples_y = []\n",
        "    ad_index = []\n",
        "    cnt = 0\n",
        "\n",
        "    for i in range(len(ori_examples2_x)):\n",
        "        x0 = ori_examples2_x[i]\n",
        "        y0 = ori_examples2_y[i]\n",
        "        y_pred_pgd, _, adv_ds_pgd, _ = pgd_attack.run(x0, y0)\n",
        "\n",
        "        if y_pred_pgd.item() == 0:\n",
        "            cnt = cnt + 1\n",
        "            ad_index.append(i)\n",
        "\n",
        "        ad_examples_x.append(adv_ds_pgd.X.tondarray()[0])\n",
        "        ad_examples_y.append(y_pred_pgd.item())\n",
        "\n",
        "        attack_pt = adv_ds_pgd.X.tondarray()[0]\n",
        "\n",
        "    print(\"PGD attack successful rate:\", cnt / nb_attack)\n",
        "\n",
        "    startTime2 = time.time()\n",
        "    ori_examples2_x = np.array(ori_examples2_x)\n",
        "    ori_examples2_y = np.array(ori_examples2_y)\n",
        "    ad_examples_x = np.array(ad_examples_x)\n",
        "    ad_examples_y = np.array(ad_examples_y)\n",
        "\n",
        "    ori_dataframe = pd.DataFrame(ori_examples2_x, columns=feature_names)\n",
        "    ad_dataframe = pd.DataFrame(ad_examples_x, columns=feature_names)\n",
        "\n",
        "    # extract the success and fail examples\n",
        "\n",
        "    ad_dataframe['ad_label'] = ad_examples_y\n",
        "    ad_success = ad_dataframe.loc[ad_dataframe.ad_label == 0]\n",
        "    ori_success = ori_dataframe.loc[ad_dataframe.ad_label == 0]\n",
        "    ad_fail = ad_dataframe.loc[ad_dataframe.ad_label == 1]\n",
        "    ori_fail = ori_dataframe.loc[ad_dataframe.ad_label == 1]\n",
        "\n",
        "    ad_success_x = ad_success.drop(columns=['ad_label'])\n",
        "    ad_fail_x = ad_fail.drop(columns=['ad_label'])\n",
        "\n",
        "    result = (ad_success_x - ori_success)\n",
        "    ori_dataframe.to_csv('ori_dataframe.csv')\n",
        "    ad_dataframe.to_csv('ad_dataframe.csv')\n",
        "    result.to_csv('result.csv')\n",
        "\n",
        "\n",
        "\n",
        "    return result, cnt, ad_success_x, ori_dataframe, ori_examples2_y, cnt/nb_attack"
      ],
      "execution_count": 13,
      "outputs": []
    },
    {
      "cell_type": "markdown",
      "metadata": {
        "id": "f3qmM8uxrzrg"
      },
      "source": [
        "**Then run the code block below:**"
      ]
    },
    {
      "cell_type": "code",
      "metadata": {
        "id": "_RYKIvm0QMHD",
        "colab": {
          "base_uri": "https://localhost:8080/"
        },
        "outputId": "67c92c8e-e400-4c03-f6f1-caea2e3317af"
      },
      "source": [
        "lb = np.ndarray.min(x_train_features.toarray())\n",
        "ub = np.ndarray.max(x_train_features.toarray())\n",
        "attack_amount = 100\n",
        "dmax = 0.06\n",
        "result, cnt, ad_success_x, ori_dataframe, ori_examples2_y, successful_rate = pgd_attack(clf_lin, tr_set, v_set, Y_val, feature_names, attack_amount, dmax, lb, ub)"
      ],
      "execution_count": 14,
      "outputs": [
        {
          "output_type": "stream",
          "name": "stdout",
          "text": [
            "PGD attack successful rate: 0.14\n"
          ]
        }
      ]
    },
    {
      "cell_type": "markdown",
      "source": [
        "### **Question 4**\n",
        "Please explain how the success rate is calculated based on the code above using your own words. Then compare this success rate to the original false negative rate of this classifier on the validation set. What do you find?"
      ],
      "metadata": {
        "id": "Vf2zyWXxnsxx"
      }
    },
    {
      "cell_type": "markdown",
      "source": [],
      "metadata": {
        "id": "xGPj3veloy7h"
      }
    },
    {
      "cell_type": "markdown",
      "metadata": {
        "id": "7xUx6FBQiCBr"
      },
      "source": [
        "## **6. Identifying Magical Words**\n",
        "Adversarial emails are crafted by adding “magic words” to the original spam emails. The “magic words” are identified by intersecting the unique ham words with the “top words”. Specifically,  the unique ham words only appear in ham emails but not in spam emails.  After the  PGD  attacks on the set of randomly selected spam emails, we examine statistically which features are modified to the largest extent in the effort to bypass detection, to find their corresponding “top words”. (The changes are measured by calculating the variance of TF-IDF differences ver these spam emails before and after the PGD perturbation.) In  our  experiments,  we  use  the  top 100  words,  which  is relatively efficient. This set is relatively small and effective. \\\\\n",
        "\n",
        "\\\\\n",
        "**Run the code block below:**"
      ]
    },
    {
      "cell_type": "code",
      "metadata": {
        "id": "Mc552xOTSQZn"
      },
      "source": [
        "def magical_word(x_train, x_val, y_train, y_val, x_test, y_test, result, cnt):\n",
        "\n",
        "    # Method 2\n",
        "    x2result1 = result\n",
        "    x2result1 = np.array(x2result1)\n",
        "    x2result = result\n",
        "    x2result = x2result.multiply(x2result1)\n",
        "\n",
        "    sum_number = x2result.sum() / cnt\n",
        "    sum_number = pd.DataFrame(sum_number, columns=['sum_number'])\n",
        "    sum_number = sum_number.sort_values(\n",
        "        by='sum_number', ascending=False, inplace=False)\n",
        "\n",
        "    sum_number_pd = pd.DataFrame(sum_number.index[:100])\n",
        "    sum_number_pd.to_csv(\"x2result.csv\")\n",
        "    d = {'message': x_train, 'label': y_train}\n",
        "    df = pd.DataFrame(data=d)\n",
        "    d1 = {'message': x_val, 'label': y_val}\n",
        "    df1 = pd.DataFrame(data=d1)\n",
        "    frames = [df, df1]\n",
        "    messages = pd.concat(frames)\n",
        "    messages.to_csv(\"messages.csv\")\n",
        "    spam = messages[messages.label == 1]\n",
        "    ham = messages[messages.label == 0]\n",
        "\n",
        "    d2 = {'message': x_test, 'label': y_test}\n",
        "    df2 = pd.DataFrame(data=d2)\n",
        "    frames2 = [df2]\n",
        "    messages_test = pd.concat(frames2)\n",
        "    messages_test.to_csv(\"messages_test.csv\")\n",
        "    spam_test = messages_test[messages_test.label == 1]\n",
        "\n",
        "\n",
        "    # Tf-idf for spam datasets\n",
        "    vect_spam = TfidfVectorizer()\n",
        "    vect_spam.fit_transform(spam['message'])\n",
        "    header_spam = vect_spam.get_feature_names_out()\n",
        "\n",
        "    # Tf-idf for ham datasets\n",
        "    vect_ham = TfidfVectorizer()\n",
        "    vect_ham.fit_transform(ham['message'])\n",
        "    header_ham = vect_ham.get_feature_names_out()\n",
        "\n",
        "    # find unique ham words\n",
        "    ham_unique = list(set(header_ham).difference(set(header_spam)))\n",
        "    header_ham1 = pd.DataFrame(ham_unique)\n",
        "    header_ham1.to_csv(\"ham_unique.csv\")\n",
        "\n",
        "    with open(\"x2result.csv\", \"r\") as csvfile:\n",
        "        reader = csv.reader(csvfile)\n",
        "        top100_features = []\n",
        "        for row in reader:\n",
        "            top100_features.append(row[1])\n",
        "    top100_features = top100_features[1:]\n",
        "    # in ham & top100\n",
        "\n",
        "    ham_unique_in_top = list(\n",
        "        set(ham_unique).intersection(set(top100_features)))\n",
        "    words14str = \"\"\n",
        "    for item in ham_unique_in_top:\n",
        "        words14str = words14str + \" \" + item\n",
        "\n",
        "\n",
        "\n",
        "    return words14str, spam, ham, spam_test\n",
        "\n",
        "\n"
      ],
      "execution_count": 15,
      "outputs": []
    },
    {
      "cell_type": "markdown",
      "metadata": {
        "id": "LjldI2rTs_N5"
      },
      "source": [
        "**Run the code block below to list the magic words:**\n",
        "\n",
        "Variable words14str contains the identified magic words."
      ]
    },
    {
      "cell_type": "code",
      "metadata": {
        "colab": {
          "base_uri": "https://localhost:8080/"
        },
        "id": "4yC_GNgts8UO",
        "outputId": "f3449565-36f7-4333-c5b2-96e590ea64b4"
      },
      "source": [
        "words14str, spam, ham, spam_test = magical_word(x_train, x_val, Y_train, Y_val, x_test, Y_test, result, cnt)\n",
        "print(words14str)\n",
        "print(len(words14str.split()))"
      ],
      "execution_count": 17,
      "outputs": [
        {
          "output_type": "stream",
          "name": "stdout",
          "text": [
            " translation phonetic proceeding ammondt academic arizona french colingacl theory pkzip linguist euralex ipa linguistic cascadilla ldc sentence native benjamin workshop grammar risked chorus\n",
            "23\n"
          ]
        }
      ]
    },
    {
      "cell_type": "markdown",
      "source": [
        "### **Question 5**\n",
        "(1). Based on your understanding after reading the paper using the link below, explain what is a \"good word\" attack?\n",
        "(Reference: https://www.ceas.cc/papers-2005/125.pdf)\n"
      ],
      "metadata": {
        "id": "lgS8EWh6qwSl"
      }
    },
    {
      "cell_type": "markdown",
      "source": [],
      "metadata": {
        "id": "pl1YCa2XyuTM"
      }
    },
    {
      "cell_type": "markdown",
      "source": [
        "(2). The use of the good words is similar to our \"magic words\" in this approach.\n",
        "What is the difference in finding \"magic words\" from finding \"good words\"?\n",
        "\n"
      ],
      "metadata": {
        "id": "ulr-4hJpysdz"
      }
    },
    {
      "cell_type": "markdown",
      "source": [],
      "metadata": {
        "id": "owxAMmiYyu5B"
      }
    },
    {
      "cell_type": "markdown",
      "metadata": {
        "id": "SdpkxWJ-RiOz"
      },
      "source": [
        "### **Task 1**\n",
        "In the code block below, try to run pgd_attack with different dmax values.\n",
        "\n",
        "What will happen when you try a higher dmax? Show the relationship by plotting dmax values and the corresponding PGD attack successful rate in a graph. You can do this by changing the code below with different dmax values. Try at least 5 dmax and explain your findings."
      ]
    },
    {
      "cell_type": "code",
      "metadata": {
        "id": "JgJtZ1gXSNUF",
        "colab": {
          "base_uri": "https://localhost:8080/",
          "height": 466
        },
        "outputId": "6cb8b37e-b080-4e8f-87a4-a402ebdcf8b7"
      },
      "source": [
        "import matplotlib.pyplot as plt\n",
        "\n",
        "attack_amount = 100\n",
        "dmax = 0.06\n",
        "result, cnt, ad_success_x, ori_dataframe, ori_examples2_y, successful_rate = pgd_attack(clf_lin, tr_set, v_set, Y_val, feature_names, attack_amount, dmax, lb, ub)\n",
        "\n",
        "# this plot cotains a single dmax vs the successful rate,\n",
        "# you can either write a for loop to try 5 or more dmax, or just manually\n",
        "# modify dmax values and record the results.\n",
        "list_dmax = [dmax]\n",
        "list_successful_rate = [successful_rate]\n",
        "plt.plot(list_dmax, list_successful_rate, 'b-o')"
      ],
      "execution_count": 18,
      "outputs": [
        {
          "output_type": "stream",
          "name": "stdout",
          "text": [
            "PGD attack successful rate: 0.21\n"
          ]
        },
        {
          "output_type": "execute_result",
          "data": {
            "text/plain": [
              "[<matplotlib.lines.Line2D at 0x78e70925e740>]"
            ]
          },
          "metadata": {},
          "execution_count": 18
        },
        {
          "output_type": "display_data",
          "data": {
            "text/plain": [
              "<Figure size 640x480 with 1 Axes>"
            ],
            "image/png": "[encoded data removed]"
          },
          "metadata": {}
        }
      ]
    },
    {
      "cell_type": "markdown",
      "metadata": {
        "id": "gr71cHstiQGv"
      },
      "source": [
        "### **Task 2**\n",
        "How many magical words did you get in attacks? List the magical words in the following text block. Find the relationship between the number of magical words and dmax of PGD attack. Plot a graph to show this relationship. Try at least 5 different dmax values. Explain your findings.\n"
      ]
    },
    {
      "cell_type": "markdown",
      "metadata": {
        "id": "SglR24OotQvS"
      },
      "source": []
    },
    {
      "cell_type": "code",
      "metadata": {
        "colab": {
          "base_uri": "https://localhost:8080/",
          "height": 466
        },
        "id": "MUYgM6b2tVQw",
        "outputId": "a407ba54-058a-4af3-dace-23832818d115"
      },
      "source": [
        "attack_amount = 100\n",
        "dmax = 0.06\n",
        "result, cnt, ad_success_x, ori_dataframe, ori_examples2_y, successful_rate = pgd_attack(clf_lin, tr_set, v_set, Y_val, feature_names, attack_amount, dmax, lb, ub)\n",
        "words14str, spam, ham, spam_test = magical_word(x_train, x_val, Y_train, Y_val, x_test, Y_test, result, cnt)\n",
        "\n",
        "# this plot cotains a single dmax vs the number of magical words,\n",
        "# you can either write a for loop do to 5 or more dmax, or just manually\n",
        "# record dmax values\n",
        "list_dmax = [dmax]\n",
        "list_len = [len(words14str.split())]\n",
        "#print (words14str)\n",
        "#print(list_len)\n",
        "plt.plot(list_dmax, list_len, 'b-o')"
      ],
      "execution_count": 19,
      "outputs": [
        {
          "output_type": "stream",
          "name": "stdout",
          "text": [
            "PGD attack successful rate: 0.26\n"
          ]
        },
        {
          "output_type": "execute_result",
          "data": {
            "text/plain": [
              "[<matplotlib.lines.Line2D at 0x78e708f48370>]"
            ]
          },
          "metadata": {},
          "execution_count": 19
        },
        {
          "output_type": "display_data",
          "data": {
            "text/plain": [
              "<Figure size 640x480 with 1 Axes>"
            ],
            "image/png": "[encoded data removed]"
          },
          "metadata": {}
        }
      ]
    },
    {
      "cell_type": "markdown",
      "metadata": {
        "id": "d9e3VAwouiQK"
      },
      "source": [
        "## **7. Crafting Adversarial Emails & Attacking SVM**\n",
        "After we find the magical words, we then add them to a spam email to evaluate how effectively the \"magic words\" can bypass the classifier. This is what we called \"crafting adversarial emails\". Then, we feed the new TF-IDF vectors of these crafted emails to the SVM classifier to see if they would be misclassified as ham emails.  \\\\\n",
        "\n",
        "\\\\\n",
        "**Run the code block below:**\n"
      ]
    },
    {
      "cell_type": "code",
      "metadata": {
        "id": "PxY8tJakw2yv"
      },
      "source": [
        "m2_empty = pd.DataFrame()\n",
        "spam_cnt = 0\n",
        "threads = []\n",
        "m2_empty_l1 = pd.DataFrame()\n",
        "m2_empty_l2 = pd.DataFrame()\n",
        "m2_empty_l3 = pd.DataFrame()\n",
        "m2_empty_l4 = pd.DataFrame()\n",
        "m2_list = [m2_empty_l1, m2_empty_l2, m2_empty_l3, m2_empty_l4]\n",
        "\n",
        "\n",
        "def single_transform(x, method, feature_model, feature_names, scalar, selection_model):\n",
        "\n",
        "  result = feature_model.transform(x)\n",
        "\n",
        "  if selection_model != 'NaN':\n",
        "    result = selection_model.transform(result)\n",
        "\n",
        "\n",
        "  return result\n",
        "\n",
        "\n",
        "\n",
        "class myThread(threading.Thread):\n",
        "\n",
        "    def __init__(self, threadID, name, spam_message, words14str, method, feature_model, feature_names, scalar, clf_lin, list_index, selection_model):\n",
        "        threading.Thread.__init__(self)\n",
        "        self.threadID = threadID\n",
        "        self.name = name\n",
        "        self.spam_message = spam_message\n",
        "        self.words14str = words14str\n",
        "        self.method = method\n",
        "        self.feature_model = feature_model\n",
        "        self.feature_names = feature_names\n",
        "        self.scalar = scalar\n",
        "        self.clf_lin = clf_lin\n",
        "        self.list_index = list_index\n",
        "        self.lock = threading.Lock()\n",
        "        self.selection_model = selection_model\n",
        "\n",
        "    def run(self):\n",
        "        global spam_cnt\n",
        "        print(\"Starting \" + self.name)\n",
        "        spam_cnt_1 = m2_empty_out(self.name, self.spam_message, self.words14str, self.method,\n",
        "                                  self.feature_model, self.feature_names, self.scalar, self.clf_lin,\n",
        "                                  self.list_index, self.selection_model)\n",
        "        spam_cnt = spam_cnt+spam_cnt_1\n",
        "        time.sleep(0.1)\n",
        "        print(\"Exiting \" + self.name)\n",
        "\n",
        "\n",
        "\n",
        "def m2_empty_out(name, spam_message, words14str, method, feature_model, feature_names, scalar, clf_lin, list_index, selection_model):\n",
        "    m2_empty_1 = pd.DataFrame()\n",
        "    spam_cnt_1 = 0\n",
        "    global m2_list\n",
        "\n",
        "    for j in spam_message.message:\n",
        "        choose_email = [j + words14str]\n",
        "        message_14_email = pd.DataFrame(choose_email, columns=[\"message\"])\n",
        "        message_14_tf_idf = single_transform(\n",
        "            message_14_email[\"message\"], method, feature_model, feature_names, scalar, selection_model)\n",
        "        message_14_tf_idf = pd.DataFrame(\n",
        "            message_14_tf_idf.toarray(), columns=feature_names)\n",
        "        message_14_y = [1]\n",
        "        message_14_y = pd.Series(message_14_y)\n",
        "        message_CData = CDataset(message_14_tf_idf, message_14_y)\n",
        "        message_14_pred = clf_lin.predict(message_CData.X)\n",
        "\n",
        "        if message_14_pred == 0:\n",
        "            spam_cnt_1 = spam_cnt_1 + 1\n",
        "            m2_empty_1 = m2_empty_1.append(\n",
        "                message_14_tf_idf, ignore_index=True)\n",
        "\n",
        "    m2_list[list_index] = m2_list[list_index].append(\n",
        "        m2_empty_1, ignore_index=True)\n",
        "\n",
        "\n",
        "\n",
        "    return spam_cnt_1\n",
        "\n",
        "\n",
        "\n",
        "def svm_attack(method, clf_lin, spam, words14str, feature_model, feature_names, scalar, selection_model):\n",
        "\n",
        "    global m2_empty\n",
        "\n",
        "    spam_messages = np.array_split(spam, 4)\n",
        "\n",
        "    print(\"Start processing message\")\n",
        "\n",
        "    thread1 = myThread(1, \"Thread-1\", spam_messages[0], words14str,\n",
        "                       method, feature_model, feature_names, scalar, clf_lin, 0, selection_model)\n",
        "    thread2 = myThread(2, \"Thread-2\", spam_messages[1], words14str,\n",
        "                       method, feature_model, feature_names, scalar, clf_lin, 1, selection_model)\n",
        "    thread3 = myThread(3, \"Thread-3\", spam_messages[2], words14str,\n",
        "                       method, feature_model, feature_names, scalar, clf_lin, 2, selection_model)\n",
        "    thread4 = myThread(4, \"Thread-4\", spam_messages[3], words14str,\n",
        "                       method, feature_model, feature_names, scalar, clf_lin, 3, selection_model)\n",
        "\n",
        "    threads.append(thread1)\n",
        "    threads.append(thread2)\n",
        "    threads.append(thread3)\n",
        "    threads.append(thread4)\n",
        "\n",
        "    for t in threads:\n",
        "        t.start()\n",
        "\n",
        "    for t in threads:\n",
        "        t.join()\n",
        "\n",
        "    m2_empty = m2_empty.append(m2_list[0], ignore_index=True)\n",
        "    m2_empty = m2_empty.append(m2_list[1], ignore_index=True)\n",
        "    m2_empty = m2_empty.append(m2_list[2], ignore_index=True)\n",
        "    m2_empty = m2_empty.append(m2_list[3], ignore_index=True)\n",
        "\n",
        "    print(\"Exiting Main Thread\")\n",
        "    print('White box attack on SVM:')\n",
        "    print('Number of samples provided:', len(spam))\n",
        "    print('Number of crafted sample that got misclassified:', spam_cnt)\n",
        "    print('Successful rate:', spam_cnt / len(spam))\n",
        "\n",
        "\n",
        "\n",
        "    return m2_empty"
      ],
      "execution_count": 22,
      "outputs": []
    },
    {
      "cell_type": "markdown",
      "metadata": {
        "id": "raxGc9-UsT6d"
      },
      "source": [
        "**Run the code block below:**"
      ]
    },
    {
      "cell_type": "code",
      "metadata": {
        "colab": {
          "base_uri": "https://localhost:8080/"
        },
        "id": "Yo5YVW5zw0Iu",
        "outputId": "60295029-b060-4434-c851-6c074040bfe3"
      },
      "source": [
        "m2_empty = svm_attack('TFIDF', clf_lin, spam_test, words14str, feature_model, feature_names, scalar, 'NaN')"
      ],
      "execution_count": 23,
      "outputs": [
        {
          "output_type": "stream",
          "name": "stderr",
          "text": [
            "WARNING:py.warnings:<ipython-input-22-e9b4594de2c6>:71: FutureWarning: The frame.append method is deprecated and will be removed from pandas in a future version. Use pandas.concat instead.\n",
            "  m2_empty_1 = m2_empty_1.append(\n",
            "\n",
            "WARNING:py.warnings:<ipython-input-22-e9b4594de2c6>:71: FutureWarning: The frame.append method is deprecated and will be removed from pandas in a future version. Use pandas.concat instead.\n",
            "  m2_empty_1 = m2_empty_1.append(\n",
            "\n",
            "WARNING:py.warnings:<ipython-input-22-e9b4594de2c6>:71: FutureWarning: The frame.append method is deprecated and will be removed from pandas in a future version. Use pandas.concat instead.\n",
            "  m2_empty_1 = m2_empty_1.append(\n",
            "\n"
          ]
        },
        {
          "output_type": "stream",
          "name": "stdout",
          "text": [
            "Start processing message\n",
            "Starting Thread-1\n",
            "Starting Thread-2\n",
            "Starting Thread-3Starting Thread-4\n",
            "\n"
          ]
        },
        {
          "output_type": "stream",
          "name": "stderr",
          "text": [
            "WARNING:py.warnings:<ipython-input-22-e9b4594de2c6>:71: FutureWarning: The frame.append method is deprecated and will be removed from pandas in a future version. Use pandas.concat instead.\n",
            "  m2_empty_1 = m2_empty_1.append(\n",
            "\n",
            "WARNING:py.warnings:<ipython-input-22-e9b4594de2c6>:71: FutureWarning: The frame.append method is deprecated and will be removed from pandas in a future version. Use pandas.concat instead.\n",
            "  m2_empty_1 = m2_empty_1.append(\n",
            "\n",
            "WARNING:py.warnings:<ipython-input-22-e9b4594de2c6>:71: FutureWarning: The frame.append method is deprecated and will be removed from pandas in a future version. Use pandas.concat instead.\n",
            "  m2_empty_1 = m2_empty_1.append(\n",
            "\n",
            "WARNING:py.warnings:<ipython-input-22-e9b4594de2c6>:71: FutureWarning: The frame.append method is deprecated and will be removed from pandas in a future version. Use pandas.concat instead.\n",
            "  m2_empty_1 = m2_empty_1.append(\n",
            "\n",
            "WARNING:py.warnings:<ipython-input-22-e9b4594de2c6>:71: FutureWarning: The frame.append method is deprecated and will be removed from pandas in a future version. Use pandas.concat instead.\n",
            "  m2_empty_1 = m2_empty_1.append(\n",
            "\n",
            "WARNING:py.warnings:<ipython-input-22-e9b4594de2c6>:71: FutureWarning: The frame.append method is deprecated and will be removed from pandas in a future version. Use pandas.concat instead.\n",
            "  m2_empty_1 = m2_empty_1.append(\n",
            "\n",
            "WARNING:py.warnings:<ipython-input-22-e9b4594de2c6>:71: FutureWarning: The frame.append method is deprecated and will be removed from pandas in a future version. Use pandas.concat instead.\n",
            "  m2_empty_1 = m2_empty_1.append(\n",
            "\n",
            "WARNING:py.warnings:<ipython-input-22-e9b4594de2c6>:71: FutureWarning: The frame.append method is deprecated and will be removed from pandas in a future version. Use pandas.concat instead.\n",
            "  m2_empty_1 = m2_empty_1.append(\n",
            "\n",
            "WARNING:py.warnings:<ipython-input-22-e9b4594de2c6>:71: FutureWarning: The frame.append method is deprecated and will be removed from pandas in a future version. Use pandas.concat instead.\n",
            "  m2_empty_1 = m2_empty_1.append(\n",
            "\n",
            "WARNING:py.warnings:<ipython-input-22-e9b4594de2c6>:71: FutureWarning: The frame.append method is deprecated and will be removed from pandas in a future version. Use pandas.concat instead.\n",
            "  m2_empty_1 = m2_empty_1.append(\n",
            "\n",
            "WARNING:py.warnings:<ipython-input-22-e9b4594de2c6>:71: FutureWarning: The frame.append method is deprecated and will be removed from pandas in a future version. Use pandas.concat instead.\n",
            "  m2_empty_1 = m2_empty_1.append(\n",
            "\n",
            "WARNING:py.warnings:<ipython-input-22-e9b4594de2c6>:71: FutureWarning: The frame.append method is deprecated and will be removed from pandas in a future version. Use pandas.concat instead.\n",
            "  m2_empty_1 = m2_empty_1.append(\n",
            "\n",
            "WARNING:py.warnings:<ipython-input-22-e9b4594de2c6>:71: FutureWarning: The frame.append method is deprecated and will be removed from pandas in a future version. Use pandas.concat instead.\n",
            "  m2_empty_1 = m2_empty_1.append(\n",
            "\n",
            "WARNING:py.warnings:<ipython-input-22-e9b4594de2c6>:71: FutureWarning: The frame.append method is deprecated and will be removed from pandas in a future version. Use pandas.concat instead.\n",
            "  m2_empty_1 = m2_empty_1.append(\n",
            "\n",
            "WARNING:py.warnings:<ipython-input-22-e9b4594de2c6>:71: FutureWarning: The frame.append method is deprecated and will be removed from pandas in a future version. Use pandas.concat instead.\n",
            "  m2_empty_1 = m2_empty_1.append(\n",
            "\n",
            "WARNING:py.warnings:<ipython-input-22-e9b4594de2c6>:71: FutureWarning: The frame.append method is deprecated and will be removed from pandas in a future version. Use pandas.concat instead.\n",
            "  m2_empty_1 = m2_empty_1.append(\n",
            "\n",
            "WARNING:py.warnings:<ipython-input-22-e9b4594de2c6>:71: FutureWarning: The frame.append method is deprecated and will be removed from pandas in a future version. Use pandas.concat instead.\n",
            "  m2_empty_1 = m2_empty_1.append(\n",
            "\n",
            "WARNING:py.warnings:<ipython-input-22-e9b4594de2c6>:71: FutureWarning: The frame.append method is deprecated and will be removed from pandas in a future version. Use pandas.concat instead.\n",
            "  m2_empty_1 = m2_empty_1.append(\n",
            "\n",
            "WARNING:py.warnings:<ipython-input-22-e9b4594de2c6>:71: FutureWarning: The frame.append method is deprecated and will be removed from pandas in a future version. Use pandas.concat instead.\n",
            "  m2_empty_1 = m2_empty_1.append(\n",
            "\n",
            "WARNING:py.warnings:<ipython-input-22-e9b4594de2c6>:71: FutureWarning: The frame.append method is deprecated and will be removed from pandas in a future version. Use pandas.concat instead.\n",
            "  m2_empty_1 = m2_empty_1.append(\n",
            "\n",
            "WARNING:py.warnings:<ipython-input-22-e9b4594de2c6>:71: FutureWarning: The frame.append method is deprecated and will be removed from pandas in a future version. Use pandas.concat instead.\n",
            "  m2_empty_1 = m2_empty_1.append(\n",
            "\n",
            "WARNING:py.warnings:<ipython-input-22-e9b4594de2c6>:71: FutureWarning: The frame.append method is deprecated and will be removed from pandas in a future version. Use pandas.concat instead.\n",
            "  m2_empty_1 = m2_empty_1.append(\n",
            "\n",
            "WARNING:py.warnings:<ipython-input-22-e9b4594de2c6>:71: FutureWarning: The frame.append method is deprecated and will be removed from pandas in a future version. Use pandas.concat instead.\n",
            "  m2_empty_1 = m2_empty_1.append(\n",
            "\n",
            "WARNING:py.warnings:<ipython-input-22-e9b4594de2c6>:71: FutureWarning: The frame.append method is deprecated and will be removed from pandas in a future version. Use pandas.concat instead.\n",
            "  m2_empty_1 = m2_empty_1.append(\n",
            "\n",
            "WARNING:py.warnings:<ipython-input-22-e9b4594de2c6>:71: FutureWarning: The frame.append method is deprecated and will be removed from pandas in a future version. Use pandas.concat instead.\n",
            "  m2_empty_1 = m2_empty_1.append(\n",
            "\n",
            "WARNING:py.warnings:<ipython-input-22-e9b4594de2c6>:71: FutureWarning: The frame.append method is deprecated and will be removed from pandas in a future version. Use pandas.concat instead.\n",
            "  m2_empty_1 = m2_empty_1.append(\n",
            "\n",
            "WARNING:py.warnings:<ipython-input-22-e9b4594de2c6>:71: FutureWarning: The frame.append method is deprecated and will be removed from pandas in a future version. Use pandas.concat instead.\n",
            "  m2_empty_1 = m2_empty_1.append(\n",
            "\n",
            "WARNING:py.warnings:<ipython-input-22-e9b4594de2c6>:71: FutureWarning: The frame.append method is deprecated and will be removed from pandas in a future version. Use pandas.concat instead.\n",
            "  m2_empty_1 = m2_empty_1.append(\n",
            "\n",
            "WARNING:py.warnings:<ipython-input-22-e9b4594de2c6>:74: FutureWarning: The frame.append method is deprecated and will be removed from pandas in a future version. Use pandas.concat instead.\n",
            "  m2_list[list_index] = m2_list[list_index].append(\n",
            "\n",
            "WARNING:py.warnings:<ipython-input-22-e9b4594de2c6>:71: FutureWarning: The frame.append method is deprecated and will be removed from pandas in a future version. Use pandas.concat instead.\n",
            "  m2_empty_1 = m2_empty_1.append(\n",
            "\n",
            "WARNING:py.warnings:<ipython-input-22-e9b4594de2c6>:71: FutureWarning: The frame.append method is deprecated and will be removed from pandas in a future version. Use pandas.concat instead.\n",
            "  m2_empty_1 = m2_empty_1.append(\n",
            "\n",
            "WARNING:py.warnings:<ipython-input-22-e9b4594de2c6>:71: FutureWarning: The frame.append method is deprecated and will be removed from pandas in a future version. Use pandas.concat instead.\n",
            "  m2_empty_1 = m2_empty_1.append(\n",
            "\n",
            "WARNING:py.warnings:<ipython-input-22-e9b4594de2c6>:71: FutureWarning: The frame.append method is deprecated and will be removed from pandas in a future version. Use pandas.concat instead.\n",
            "  m2_empty_1 = m2_empty_1.append(\n",
            "\n",
            "WARNING:py.warnings:<ipython-input-22-e9b4594de2c6>:74: FutureWarning: The frame.append method is deprecated and will be removed from pandas in a future version. Use pandas.concat instead.\n",
            "  m2_list[list_index] = m2_list[list_index].append(\n",
            "\n",
            "WARNING:py.warnings:<ipython-input-22-e9b4594de2c6>:71: FutureWarning: The frame.append method is deprecated and will be removed from pandas in a future version. Use pandas.concat instead.\n",
            "  m2_empty_1 = m2_empty_1.append(\n",
            "\n",
            "WARNING:py.warnings:<ipython-input-22-e9b4594de2c6>:71: FutureWarning: The frame.append method is deprecated and will be removed from pandas in a future version. Use pandas.concat instead.\n",
            "  m2_empty_1 = m2_empty_1.append(\n",
            "\n",
            "WARNING:py.warnings:<ipython-input-22-e9b4594de2c6>:71: FutureWarning: The frame.append method is deprecated and will be removed from pandas in a future version. Use pandas.concat instead.\n",
            "  m2_empty_1 = m2_empty_1.append(\n",
            "\n"
          ]
        },
        {
          "output_type": "stream",
          "name": "stdout",
          "text": [
            "Exiting Thread-1\n",
            "Exiting Thread-2\n"
          ]
        },
        {
          "output_type": "stream",
          "name": "stderr",
          "text": [
            "WARNING:py.warnings:<ipython-input-22-e9b4594de2c6>:74: FutureWarning: The frame.append method is deprecated and will be removed from pandas in a future version. Use pandas.concat instead.\n",
            "  m2_list[list_index] = m2_list[list_index].append(\n",
            "\n",
            "WARNING:py.warnings:<ipython-input-22-e9b4594de2c6>:71: FutureWarning: The frame.append method is deprecated and will be removed from pandas in a future version. Use pandas.concat instead.\n",
            "  m2_empty_1 = m2_empty_1.append(\n",
            "\n",
            "WARNING:py.warnings:<ipython-input-22-e9b4594de2c6>:111: FutureWarning: The frame.append method is deprecated and will be removed from pandas in a future version. Use pandas.concat instead.\n",
            "  m2_empty = m2_empty.append(m2_list[0], ignore_index=True)\n",
            "\n",
            "WARNING:py.warnings:<ipython-input-22-e9b4594de2c6>:112: FutureWarning: The frame.append method is deprecated and will be removed from pandas in a future version. Use pandas.concat instead.\n",
            "  m2_empty = m2_empty.append(m2_list[1], ignore_index=True)\n",
            "\n",
            "WARNING:py.warnings:<ipython-input-22-e9b4594de2c6>:113: FutureWarning: The frame.append method is deprecated and will be removed from pandas in a future version. Use pandas.concat instead.\n",
            "  m2_empty = m2_empty.append(m2_list[2], ignore_index=True)\n",
            "\n",
            "WARNING:py.warnings:<ipython-input-22-e9b4594de2c6>:114: FutureWarning: The frame.append method is deprecated and will be removed from pandas in a future version. Use pandas.concat instead.\n",
            "  m2_empty = m2_empty.append(m2_list[3], ignore_index=True)\n",
            "\n"
          ]
        },
        {
          "output_type": "stream",
          "name": "stdout",
          "text": [
            "Exiting Thread-4\n",
            "Exiting Thread-3\n",
            "Exiting Main Thread\n",
            "White box attack on SVM:\n",
            "Number of samples provided: 96\n",
            "Number of crafted sample that got misclassified: 46\n",
            "Successful rate: 0.4791666666666667\n"
          ]
        }
      ]
    },
    {
      "cell_type": "markdown",
      "metadata": {
        "id": "lQOQYRvy4QBG"
      },
      "source": [
        "### **Question 6**\n",
        "Is the successful rate shown above higher or lower than the false negative rate of the classifer? Does that mean our attack is effective?"
      ]
    },
    {
      "cell_type": "markdown",
      "metadata": {
        "id": "TX--S66z4SF8"
      },
      "source": []
    },
    {
      "cell_type": "markdown",
      "metadata": {
        "id": "znZP1evnzPPd"
      },
      "source": [
        "### **Task 4**\n",
        "Now we will try to craft individual emails by manually changing the text.\n",
        "Follow the steps below for 5 emails: \\\\\n",
        "\n",
        "1. Choose an email from the spam dataset.\n",
        "2. Copy the selected email into the code block.\n",
        "3. Add a single magical word obtained from the results of Section 6 to the email, placing it where you see fit.\n",
        "4. Run the code to check if the label is flipped from spam (1) to non-spam (0).\n",
        "5. If the label is flipped, stop. If not, repeat steps 3 and 4 (*add additional magic word*) until the label is flipped or until you've run out of magical words.\n",
        "\n",
        "Tips:\n",
        "1. Here you should note, what exactly is \"Spam Emails\" in this case.\n",
        "2. What should the magical words added to spam_emails be generated from? Is it our validation data or test data?"
      ]
    },
    {
      "cell_type": "code",
      "metadata": {
        "colab": {
          "base_uri": "https://localhost:8080/"
        },
        "id": "9XTYSvT12j5y",
        "outputId": "dccb7df5-49d1-4511-80dc-bfcc440d9f2b"
      },
      "source": [
        "# All Spam Emails\n",
        "print(spam_test)"
      ],
      "execution_count": 24,
      "outputs": [
        {
          "output_type": "stream",
          "name": "stdout",
          "text": [
            "                                                message  label\n",
            "159   abc super requalifier associated benefit consu...      1\n",
            "139   remove instruction remove request respectfully...      1\n",
            "2667  earn year sending email dear friend earn day s...      1\n",
            "2454  just released introducing million vol took tot...      1\n",
            "1745  know business need cash loan fast funding want...      1\n",
            "...                                                 ...    ...\n",
            "1286  new http capitalfm com help london child nt mi...      1\n",
            "1489  thank training course success course offer ext...      1\n",
            "2841  ll want live cybersex hour day right computer ...      1\n",
            "212   locate usa old friend lost loved one deadbeat ...      1\n",
            "474   america s largest monopoly shattered new growt...      1\n",
            "\n",
            "[96 rows x 2 columns]\n"
          ]
        }
      ]
    },
    {
      "cell_type": "code",
      "metadata": {
        "colab": {
          "base_uri": "https://localhost:8080/"
        },
        "id": "7fqlpi6q3P4-",
        "outputId": "c8a5712a-2045-4aa5-f5ab-05705dca3e7c"
      },
      "source": [
        "# Choose by varying numbers\n",
        "print(spam_test.message.values[0])"
      ],
      "execution_count": 25,
      "outputs": [
        {
          "output_type": "stream",
          "name": "stdout",
          "text": [
            "abc super requalifier associated benefit consultant dear fellow entrepreneur letter urgent attempt reach like hear hr hopefully reached opportune time immediate reply attention needed today new income start little day want hear firsthand exciting breakthrough moneymaking opportunity abc super qualifier fast simple powerful moneymaker hoped discover research shown person s potential success increase receiving personalized instruction invite involved easy ingenious program involves personal instruction handpicked organization member professional skill expertise personally guide financial freedom immediately utilize existing program accomplishes following generates prequalified prospect send team support live interactive conference call cpm long distance virtual office stock ship product directly customer door pay daily overnight airborne express door permit realistic opportunity earn month produce new income spare time time time basis know wealth attained select advantage new powerful opportunity opportunity abc super qualifier time financial freedom earning income program offer reason instructed organization devote time genuine improving financial situation seriously looking real program produce large revenue urge office hr toll free number leave message notified response promptly return information need way making additional income week remember timing success john cheryl stephanie richard judy debra abc marketing team program try copy highly recommend abc paul barron ca ve seen fast simple way make large income alan louis tx abc perfect homebased business money great andrew kerr ca real program fast money thanks abc s herman tx gave mlm abc believer week c s\n"
          ]
        }
      ]
    },
    {
      "cell_type": "code",
      "metadata": {
        "colab": {
          "base_uri": "https://localhost:8080/"
        },
        "id": "qygv01a_zOGe",
        "outputId": "e47a2672-7d81-4f65-b196-3d2378956a5f"
      },
      "source": [
        "choose_email = ['The email content you chose + magical word']\n",
        "message_14_email = pd.DataFrame(choose_email, columns=[\"message\"])\n",
        "message_14_tf_idf = single_transform(message_14_email[\"message\"], 'TFIDF',\n",
        "                    feature_model, feature_names, scalar,\n",
        "                    'NaN')\n",
        "message_14_tf_idf = pd.DataFrame(message_14_tf_idf.toarray(), columns=feature_names)\n",
        "message_14_y = [1]\n",
        "message_14_y = pd.Series(message_14_y)\n",
        "message_CData = CDataset(message_14_tf_idf, message_14_y)\n",
        "message_14_pred = clf_lin.predict(message_CData.X)\n",
        "\n",
        "# if the output is something like CArray([0]), then you flipped the label\n",
        "print('the label after injecting magical word:', message_14_pred)"
      ],
      "execution_count": null,
      "outputs": [
        {
          "output_type": "stream",
          "name": "stdout",
          "text": [
            "the label after injecting magical word: CArray([0])\n"
          ]
        }
      ]
    },
    {
      "cell_type": "markdown",
      "metadata": {
        "id": "uqgxp_kT4KgP"
      },
      "source": [
        "### **Question 7**\n",
        "How many emails successfully went through (classifiction label flipped to 0) after adding magical words? For each of these emails, how many magical words did you add? (Choose at least 5 emails)"
      ]
    },
    {
      "cell_type": "markdown",
      "metadata": {
        "id": "RrzWj7MU5Lwu"
      },
      "source": []
    }
  ]
}