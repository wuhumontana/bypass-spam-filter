{
 "cells": [
  {
   "cell_type": "markdown",
   "metadata": {
    "id": "HBdiD49e5Q7L"
   },
   "source": [
    "# **Adversarial Attacks Against Machine Learning-Based Spam Filters and Their Defense**"
   ]
  },
  {
   "cell_type": "markdown",
   "metadata": {
    "id": "NPJYb7EA5a24"
   },
   "source": [
    "Team Members: **Kyle Wang**, **Brian Zhou**, **Jim Huang**"
   ]
  },
  {
   "cell_type": "markdown",
   "metadata": {
    "id": "eSubQvScyKdQ"
   },
   "source": [
    "## **Introduction**\n",
    "Machine learning-based spam detection models learn from a set of labeled training data and detect spam emails using this trained model. In this capstone, we study a class of vulnerabilities of such detection models, where the attack can manipulate the numerical features used in such a model ( e.g., TF-IDF vectors representing emails to a SVM classifier) to misclassify them during the detection phase. However, very often feature extraction methods make it difficult to translate a change made to the features to that in the textual email space. This lab uses a new attack method of making guided changes to the text in emails by taking advantage of purposely generated adversarial TF-IDF vetor representing emails. We identify a set of \"magic words\", or malicious words, to be added to a spam email, which can cause desirable misclassifications by classifiers. This attack works in a similar way to the so-called \"good word attack\".\n",
    "\n",
    "For more information on this attack approach, you can refer to the following publications:\n",
    "\n",
    "(1) Q. Cheng, A. Xu, X. Li, and L. Ding, “Adversarial Email Generation against Spam Detection Models through Feature Perturbation,” The 2022 IEEE International Conference on Assured Autonomy (ICAA’22), Virtual Event, March 22-23, 2022. [Download](https://isi.jhu.edu/wp-content/uploads/2022/04/Adversarial_Attacks_Against_Machine_Learning_Based_SpamFilters__IEEE.pdf)\n",
    "\n",
    "(2) J. He, Q. Cheng, and X. Li, “Understanding the Impact of Bad Words \n",
    "on Email Management through Adversarial Machine Learning,” SIG-KM International Research Symposium 2021, Virtual Event, The University of North Texas, September 29, 2021. [Download](https://isi.jhu.edu/wp-content/uploads/2021/10/Bad-Words-He-Cheng-Li-Rev.pdf)\n",
    "\n",
    "(3) C. Wang, D. Zhang, S. Huang, X. Li, and L. Ding, “Crafting Adversarial Email Content against Machine Learning Based Spam Email Detection,” In Proceedings of the 2021 International Symposium on Advanced Security on Software and Systems (ASSS ’21) with AsiaCCS 2021, Virtual Event, Hong Kong, June 7, 2021. [Download](https://isi.jhu.edu/wp-content/uploads/2021/04/ASSS_Workshop_Paper.pdf\n",
    ") "
   ]
  },
  {
   "cell_type": "markdown",
   "metadata": {
    "id": "Sv-y6Ac6FYWO"
   },
   "source": [
    "## **1. Loading Dataset**\n",
    "We will be using the Ling-Spam. The Ling-Spam dataset is a collection of 2,893 spam and non-spam messages curated from Linguist List. The messages in the dataset revolve around linguistic interests, such as job postings, research opportunities and software discussion.\n",
    "\n",
    "### Acknowledgements\n",
    "The dataset and its information come from the original authors of \"A Memory-Based Approach to Anti-Spam Filtering for Mailing Lists\". The dataset was made publicly available as a part of that paper. \\\\"
   ]
  },
  {
   "cell_type": "markdown",
   "metadata": {
    "id": "FAHEUxXQcEqx"
   },
   "source": [
    "### Definition of each variables\n",
    "x_train: Training data features\n",
    "\n",
    "x_val  : Validation data features (This is used to find the magic words)\n",
    "\n",
    "x_test : Testing data features\n",
    "\n",
    "\\\\\n",
    "\n",
    "y-train: Training data label\n",
    "\n",
    "y_val  : Validation data label\n",
    "\n",
    "y_test : Testing data label\n",
    "\n",
    "**Run the code block below:**"
   ]
  },
  {
   "cell_type": "code",
   "execution_count": 1,
   "metadata": {
    "id": "CZvxGJk-rkkc",
    "tags": []
   },
   "outputs": [],
   "source": [
    "from tkinter import YView\n",
    "from sklearn.model_selection import train_test_split\n",
    "\n",
    "# This function extracts data from .csv file and split into training, validation, and testing dataset.\n",
    "def data_extraction():\n",
    "  # Load the data from the messages.csv file.\n",
    "  df = pd.read_csv('messages.csv')\n",
    "\n",
    "  # Separate data into features and labels\n",
    "  x = df.message\n",
    "  y = df.label\n",
    "\n",
    "  # We first separate the entire dataset to 80% and 20%\n",
    "  # We use the 80% to get our training dataset and the validation dataset. \n",
    "  # We use the 20% as our testing dataset. \n",
    "  x_train_val, x_test, y_train_val, y_test = train_test_split(x, y, test_size=0.2, random_state=99, stratify = y)\n",
    "\n",
    "  # Separate the 80%, which contains our traning dataset and validation dataset, into another 80% traning dataset and 20% valications dataset.\n",
    "  x_train, x_val, y_train, y_val = train_test_split(x_train_val, y_train_val, test_size=0.2, random_state=99, stratify=y_train_val)\n",
    "\n",
    "  return x_train, x_val, x_test, y_train, y_val, y_test"
   ]
  },
  {
   "cell_type": "markdown",
   "metadata": {
    "id": "nFUv7AmsFW8e"
   },
   "source": [
    "In the code block above, we have read the dataset into variables 'messages' and 'labels'. Variable 'messages' contains the email messages and variable 'labels' contains the class labels where 0 represents ham and 1 represents spam."
   ]
  },
  {
   "cell_type": "markdown",
   "metadata": {
    "id": "v399Bk1sjKcA"
   },
   "source": [
    "We split the entire dataset into three different subsets: the training data, the validation data, and the testing data. \n",
    "\n",
    "In the code block above, we split the dataset twice using a 64:16:20 ratio, where 64% of the entire dataset is assigned to the training dataset (Y_train), 16% to the validation dataset (X_val), and 20% to the testing dataset (X_test), ."
   ]
  },
  {
   "cell_type": "markdown",
   "metadata": {
    "id": "Cn-R5V0HlFYm"
   },
   "source": [
    "### **Additional Information of Three Datasets**\n",
    "In the above operation, we divided the entire dataset into three parts: training dataset, validation dataset, and testing dataset. This is done to evaluate the performance of our machine learning model on new and unseen data. The training dataset is used to train the model, the validation dataset is used to tune the model's hyperparameters(magic words in our application), and the testing dataset is used to evaluate the final performance of the model. \n",
    "\n",
    "For more information on these concepts, you can read the article available at the following link: https://towardsdatascience.com/train-validation-and-test-sets-72cb40cba9e7."
   ]
  },
  {
   "cell_type": "markdown",
   "metadata": {
    "id": "3KJ7iGauJih3"
   },
   "source": [
    "## **2. Preprocessing the Emails**\n",
    "To extract only useful information from the emails we used, we applied serveral data preprocessing steps.\n",
    "\n",
    "(1). We removed all HTML tags, numbers, punctuation marks, and English stop words. \n",
    "\n",
    "(2). We converted all words to their lowercase forms and combined each paragraph into a single line instead of multiple lines. \n",
    "\n",
    "(3). We conducted stemming on all the remaining words to reduce them to their root forms. \\\\\n",
    "\n",
    "**Run the code below:**"
   ]
  },
  {
   "cell_type": "code",
   "execution_count": 2,
   "metadata": {
    "colab": {
     "base_uri": "https://localhost:8080/"
    },
    "id": "ZfS6VpTaH7Wu",
    "outputId": "fc7a0c4c-9572-43ac-f1fc-61bc27748fd0",
    "tags": []
   },
   "outputs": [
    {
     "name": "stderr",
     "output_type": "stream",
     "text": [
      "[nltk_data] Downloading package punkt to\n",
      "[nltk_data]     C:\\Users\\31360\\AppData\\Roaming\\nltk_data...\n",
      "[nltk_data]   Package punkt is already up-to-date!\n",
      "[nltk_data] Downloading package wordnet to\n",
      "[nltk_data]     C:\\Users\\31360\\AppData\\Roaming\\nltk_data...\n",
      "[nltk_data]   Package wordnet is already up-to-date!\n",
      "[nltk_data] Downloading package omw-1.4 to\n",
      "[nltk_data]     C:\\Users\\31360\\AppData\\Roaming\\nltk_data...\n",
      "[nltk_data]   Package omw-1.4 is already up-to-date!\n"
     ]
    }
   ],
   "source": [
    "import re\n",
    "import nltk\n",
    "import string\n",
    "from nltk.tokenize import word_tokenize\n",
    "from sklearn.feature_extraction._stop_words import ENGLISH_STOP_WORDS\n",
    "from nltk.stem import PorterStemmer\n",
    "from nltk.stem import WordNetLemmatizer\n",
    "\n",
    "\n",
    "# Download required packages from nltk\n",
    "nltk.download('punkt')\n",
    "nltk.download('wordnet')\n",
    "nltk.download('omw-1.4')\n",
    "\n",
    "# Clean up the text data.\n",
    "def remove_hyperlink(word):\n",
    "  return re.sub(r\"http\\S+\", \" \", word)\n",
    "\n",
    "# Convert the letter to lowercase.\n",
    "def to_lower(word):\n",
    "    result = word.lower()\n",
    "    return result\n",
    "\n",
    "# Remove the numbers.\n",
    "def remove_number(word):\n",
    "    result = re.sub(r'\\d+', ' ', word)\n",
    "    return result\n",
    "\n",
    "# Remove the puncturations.\n",
    "def remove_punctuation(word):\n",
    "    result = word.translate(str.maketrans(dict.fromkeys(string.punctuation)))\n",
    "    return result\n",
    "\n",
    "# Remove the whitespace. \n",
    "def remove_whitespace(word):\n",
    "    result = word.strip()\n",
    "    return result\n",
    "\n",
    "# Merge multiple lines into one line.\n",
    "def replace_newline(word):\n",
    "    return word.replace('\\n', ' ')\n",
    "\n",
    "\n",
    "def clean_up_pipeline(sentence):\n",
    "    cleaning_utils = [remove_hyperlink,replace_newline,to_lower, remove_number, remove_punctuation, remove_whitespace]\n",
    "    for o in cleaning_utils:\n",
    "        sentence = o(sentence)\n",
    "    return sentence\n",
    "\n",
    "# Remove the stopwords, for example: a, and, an, above, ..., etc.\n",
    "def remove_stop_words(words):\n",
    "    result = [i for i in words if i not in ENGLISH_STOP_WORDS]\n",
    "    return result\n",
    "\n",
    "# Stemming aims to cut off the ends of words to obtain the root form. \n",
    "# It does not consider the meaning of the word. As a result, the stemmed word might not be a valid word in the language.\n",
    "# Generally faster than lemmatization because it's based on rules and doesn't require additional resources like a lexicon.\n",
    "# Example: \"running\" → \"run\", \"flies\" → \"fli\", \"happily\" → \"happili\"\n",
    "def word_stemmer(words):\n",
    "    stemmer = PorterStemmer()\n",
    "    return [stemmer.stem(o) for o in words]\n",
    "\n",
    "# Lemmatization reduces words to their base or dictionary form by considering the meaning and context of the word. \n",
    "# It ensures that the root word (lemma) is a valid word in the language.\n",
    "# Generally more accurate than stemming but can be slower because it involves looking up words in a lexicon.\n",
    "# Example: \"running\" → \"run\", \"flies\" → \"fly\", \"better\" → \"good\"\n",
    "def word_lemmatizer(words):\n",
    "    lemmatizer = WordNetLemmatizer()\n",
    "    return [lemmatizer.lemmatize(o) for o in words]\n",
    "\n",
    "# Clear out the unnecessary information.\n",
    "def clean_token_pipeline(words):\n",
    "    cleaning_utils = [remove_stop_words, word_lemmatizer]\n",
    "    for o in cleaning_utils:\n",
    "        words = o(words)\n",
    "    return words\n",
    "\n",
    " # Preprocess the text data.\n",
    "def preprocess(X_train, X_val, X_test):\n",
    "    x_train = [clean_up_pipeline(o) for o in X_train]\n",
    "    x_val = [clean_up_pipeline(o) for o in X_val]\n",
    "    x_test = [clean_up_pipeline(o) for o in X_test]\n",
    "    \n",
    "    # word_tokenize() function is used to split a sentence or paragraph into individual words.\n",
    "    x_train = [word_tokenize(o) for o in x_train]\n",
    "    x_val = [word_tokenize(o) for o in x_val]\n",
    "    x_test = [word_tokenize(o) for o in x_test]\n",
    "\n",
    "    x_train = [clean_token_pipeline(o) for o in x_train]\n",
    "    x_val = [clean_token_pipeline(o) for o in x_val]\n",
    "    x_test = [clean_token_pipeline(o) for o in x_test]\n",
    "\n",
    "    x_train = [\" \".join(o) for o in x_train]\n",
    "    x_val = [\" \".join(o) for o in x_val]\n",
    "    x_test = [\" \".join(o) for o in x_test]    \n",
    "\n",
    "    return x_train, x_val, x_test\n"
   ]
  },
  {
   "cell_type": "markdown",
   "metadata": {
    "id": "N68YIZqIJmc8"
   },
   "source": [
    "## **3. Feature Extraction**\n",
    "In this step, we aim to transform the text content of an email into a numerical feature vector that captures the essential information used for classification. To achieve this, we can choose from a variety of vectorization techniques(TF-IDF and a modified Word2vec) that convert text data into numerical vectors. \n",
    "\n",
    "**Run the code block below:**"
   ]
  },
  {
   "cell_type": "code",
   "execution_count": 3,
   "metadata": {
    "colab": {
     "base_uri": "https://localhost:8080/"
    },
    "id": "wlpwcsgxJrMK",
    "outputId": "60937c8d-2514-4de8-f63b-0f53f4eb82c0",
    "tags": []
   },
   "outputs": [
    {
     "name": "stdout",
     "output_type": "stream",
     "text": [
      "Requirement already satisfied: gensim in c:\\users\\31360\\appdata\\local\\programs\\python\\python37\\lib\\site-packages (4.2.0)\n",
      "Requirement already satisfied: numpy>=1.17.0 in c:\\users\\31360\\appdata\\local\\programs\\python\\python37\\lib\\site-packages (from gensim) (1.21.6)\n",
      "Requirement already satisfied: scipy>=0.18.1 in c:\\users\\31360\\appdata\\local\\programs\\python\\python37\\lib\\site-packages (from gensim) (1.7.3)\n",
      "Requirement already satisfied: smart-open>=1.8.1 in c:\\users\\31360\\appdata\\local\\programs\\python\\python37\\lib\\site-packages (from gensim) (6.4.0)\n",
      "Requirement already satisfied: Cython==0.29.28 in c:\\users\\31360\\appdata\\local\\programs\\python\\python37\\lib\\site-packages (from gensim) (0.29.28)\n"
     ]
    }
   ],
   "source": [
    "import gensim\n",
    "!pip install --upgrade gensim\n",
    "from sklearn.feature_extraction.text import TfidfVectorizer\n",
    "from gensim.models import Word2Vec\n",
    "import numpy as np\n",
    "import pandas as pd\n",
    "from scipy import sparse\n",
    "from sklearn.preprocessing import MinMaxScaler\n",
    "\n",
    "vectorizer = TfidfVectorizer()\n",
    "\n",
    "def TfidfConvert(x_train, x_test, x_val):\n",
    "    raw_sentences = x_train + x_val\n",
    "    \n",
    "    # Learn vocabulary and compute IDF values. This vocabulary will be used later to convert new sentences into vectors.\n",
    "    # Calculate IDF values for each word, store this information for later use during the transformation of text into vectors.\n",
    "    # IDF(Inverse Document Frequency) is a measure of how important a word is to the entire corpus. \n",
    "    # Words that are frequent in a specific document but rare across the entire dataset will have a high TF-IDF weight, vice versa.\n",
    "    vectorizer.fit(raw_sentences)\n",
    "    \n",
    "    # vectorizer.transform() is used to convert raw text data into a numerical format suitable for ML algorithms. \n",
    "    # Calculate the frequency of each word，which is the term frequency (TF) part of the TF-IDF. \n",
    "    # Calculate the final TF-IDF weight for a word in a specific document, which is the product of its TF and IDF values. \n",
    "    x_train_features = vectorizer.transform(x_train)\n",
    "    x_test_features = vectorizer.transform(x_test)\n",
    "    x_val_features = vectorizer.transform(x_val)\n",
    "\n",
    "    return x_train_features, x_test_features, x_val_features\n",
    "\n",
    "\n",
    "def getUniqueWords(allWords):\n",
    "    uniqueWords = []\n",
    "    for i in allWords:\n",
    "        if i not in uniqueWords:\n",
    "            uniqueWords.append(i)\n",
    "    return uniqueWords\n",
    "\n",
    "\n",
    "def input_split(x):\n",
    "    new_x = []\n",
    "    for line in x:\n",
    "        newline = line.split(' ')\n",
    "        new_x.append(newline)\n",
    "    return new_x\n",
    "\n",
    "\n",
    "def getUniqueWords(allWords):\n",
    "    uniqueWords = []\n",
    "    for i in allWords:\n",
    "        if i not in uniqueWords:\n",
    "            uniqueWords.append(i)\n",
    "    return uniqueWords\n",
    "\n",
    "\n",
    "def x2vec(input_x, feature_names, model):\n",
    "    x_features = []\n",
    "    for index in input_x:\n",
    "        model_vector = [0] * len(feature_names)\n",
    "\n",
    "        for token in index:\n",
    "            if token in feature_names:\n",
    "                feature_index = feature_names.index(token)\n",
    "\n",
    "                if model.wv.has_index_for(token):\n",
    "                    token_vecs = model.wv.get_vector(token)\n",
    "                    model_vector[feature_index] = token_vecs[0]\n",
    "        x_features.append(model_vector)\n",
    "    return x_features\n",
    "\n",
    "\n",
    "def single_transform(x, method, feature_model, feature_names, scaler, selection_model):\n",
    "    if method == 'TFIDF':\n",
    "\n",
    "        result = feature_model.transform(x)\n",
    "        if selection_model != 'NaN':\n",
    "            result = selection_model.transform(result)\n",
    "        return result\n",
    "    else:\n",
    "        temp_x = x.values\n",
    "        temp_x = temp_x[0].split(' ')\n",
    "        model_vector = [0] * len(feature_names)\n",
    "        for token in temp_x:\n",
    "            if token in feature_names:\n",
    "                feature_index = feature_names.index(token)\n",
    "                if feature_model.wv.has_index_for(token):\n",
    "                    token_vecs = feature_model.wv.get_vector(token)\n",
    "                    model_vector[feature_index] = token_vecs[0]\n",
    "        x_features = [model_vector]\n",
    "        # x_features = np.array(x_features)\n",
    "        x_features = scaler.transform(x_features)\n",
    "        x_train_features = sparse.csr_matrix(x_features)\n",
    "        if selection_model != 'NaN':\n",
    "            x_train_features = selection_model.transform(x_train_features)\n",
    "        return x_train_features\n",
    "\n",
    "\n",
    "def feature_extraction(x_train, x_test, x_val, method):\n",
    "\n",
    "    if method == 'TFIDF':\n",
    "        x_train_features, x_test_features, x_val_features = TfidfConvert(x_train, x_test, x_val)\n",
    "        feature_names = vectorizer.get_feature_names()\n",
    "\n",
    "        return x_train_features, x_test_features, x_val_features, feature_names, vectorizer, 'NaN'\n",
    "\n",
    "    if method == 'word2vec':\n",
    "        temp_x_train = input_split(x_train)\n",
    "        temp_x_test = input_split(x_test)\n",
    "        temp_x_val = input_split(x_val)\n",
    "\n",
    "        model_train = Word2Vec(temp_x_train, vector_size=1)\n",
    "        feature_space = []\n",
    "        for index in temp_x_train:\n",
    "            feature_space = feature_space + getUniqueWords(index)\n",
    "        feature_names = getUniqueWords(feature_space)\n",
    "      \n",
    "        x_train_features = x2vec(temp_x_train, feature_names, model_train)\n",
    "        x_test_features = x2vec(temp_x_test, feature_names, model_train)\n",
    "        x_val_features = x2vec(temp_x_val, feature_names, model_train)\n",
    "\n",
    "        x_train_features = np.array(x_train_features)\n",
    "        x_test_features = np.array(x_test_features)\n",
    "        x_val_features = np.array(x_val_features)\n",
    "\n",
    "        pd.DataFrame(x_train_features).to_csv(\"x_train_features.csv\", header=None, index=False)\n",
    "        pd.DataFrame(x_test_features).to_csv(\"x_test_features.csv\", header=None, index=False)\n",
    "        pd.DataFrame(x_val_features).to_csv(\"x_val_features.csv\", header=None, index=False)\n",
    "\n",
    "        scaler = MinMaxScaler()\n",
    "        scaler.fit(x_train_features)\n",
    "        x_train_features = scaler.transform(x_train_features)\n",
    "        x_test_features = scaler.transform(x_test_features)\n",
    "        x_val_features = scaler.transform(x_val_features)\n",
    "\n",
    "        x_train_features = sparse.csr_matrix(x_train_features)\n",
    "        x_test_features = sparse.csr_matrix(x_test_features)\n",
    "        x_val_features = sparse.csr_matrix(x_val_features)\n",
    "\n",
    "        return x_train_features, x_test_features, x_val_features, feature_names, model_train, scaler"
   ]
  },
  {
   "cell_type": "markdown",
   "metadata": {
    "id": "k0RZeCBFLSH9"
   },
   "source": [
    "## **4. Training SVM Classifiers**\n",
    "In this section, we will train a Support Vector Machine (SVM) as an spam filter.\n",
    "\n",
    "**Run the code block below:**"
   ]
  },
  {
   "cell_type": "code",
   "execution_count": 4,
   "metadata": {
    "colab": {
     "base_uri": "https://localhost:8080/"
    },
    "id": "kAeBdHNfLM7k",
    "outputId": "0e3dc5b4-535c-4e44-d5b3-9d5e4438008e",
    "tags": []
   },
   "outputs": [
    {
     "name": "stdout",
     "output_type": "stream",
     "text": [
      "Requirement already satisfied: secml in c:\\users\\31360\\appdata\\local\\programs\\python\\python37\\lib\\site-packages (0.15.6)\n",
      "Requirement already satisfied: numpy>=1.17 in c:\\users\\31360\\appdata\\local\\programs\\python\\python37\\lib\\site-packages (from secml) (1.21.6)\n",
      "Requirement already satisfied: scipy>=1.3.2 in c:\\users\\31360\\appdata\\local\\programs\\python\\python37\\lib\\site-packages (from secml) (1.7.3)\n",
      "Requirement already satisfied: matplotlib>=3 in c:\\users\\31360\\appdata\\local\\programs\\python\\python37\\lib\\site-packages (from secml) (3.5.3)\n",
      "Requirement already satisfied: scikit-learn>=0.22 in c:\\users\\31360\\appdata\\local\\programs\\python\\python37\\lib\\site-packages (from secml) (1.0.2)\n",
      "Requirement already satisfied: joblib>=0.14 in c:\\users\\31360\\appdata\\local\\programs\\python\\python37\\lib\\site-packages (from secml) (1.3.2)\n",
      "Requirement already satisfied: Pillow>=6.2.1 in c:\\users\\31360\\appdata\\local\\programs\\python\\python37\\lib\\site-packages (from secml) (9.5.0)\n",
      "Requirement already satisfied: requests in c:\\users\\31360\\appdata\\local\\programs\\python\\python37\\lib\\site-packages (from secml) (2.31.0)\n",
      "Requirement already satisfied: python-dateutil in c:\\users\\31360\\appdata\\local\\programs\\python\\python37\\lib\\site-packages (from secml) (2.8.2)\n",
      "Requirement already satisfied: cycler>=0.10 in c:\\users\\31360\\appdata\\local\\programs\\python\\python37\\lib\\site-packages (from matplotlib>=3->secml) (0.11.0)\n",
      "Requirement already satisfied: fonttools>=4.22.0 in c:\\users\\31360\\appdata\\local\\programs\\python\\python37\\lib\\site-packages (from matplotlib>=3->secml) (4.38.0)\n",
      "Requirement already satisfied: kiwisolver>=1.0.1 in c:\\users\\31360\\appdata\\local\\programs\\python\\python37\\lib\\site-packages (from matplotlib>=3->secml) (1.4.5)\n",
      "Requirement already satisfied: packaging>=20.0 in c:\\users\\31360\\appdata\\local\\programs\\python\\python37\\lib\\site-packages (from matplotlib>=3->secml) (23.1)\n",
      "Requirement already satisfied: pyparsing>=2.2.1 in c:\\users\\31360\\appdata\\local\\programs\\python\\python37\\lib\\site-packages (from matplotlib>=3->secml) (3.1.1)\n",
      "Requirement already satisfied: six>=1.5 in c:\\users\\31360\\appdata\\local\\programs\\python\\python37\\lib\\site-packages (from python-dateutil->secml) (1.16.0)\n",
      "Requirement already satisfied: threadpoolctl>=2.0.0 in c:\\users\\31360\\appdata\\local\\programs\\python\\python37\\lib\\site-packages (from scikit-learn>=0.22->secml) (3.1.0)\n",
      "Requirement already satisfied: charset-normalizer<4,>=2 in c:\\users\\31360\\appdata\\local\\programs\\python\\python37\\lib\\site-packages (from requests->secml) (3.2.0)\n",
      "Requirement already satisfied: idna<4,>=2.5 in c:\\users\\31360\\appdata\\local\\programs\\python\\python37\\lib\\site-packages (from requests->secml) (3.4)\n",
      "Requirement already satisfied: urllib3<3,>=1.21.1 in c:\\users\\31360\\appdata\\local\\programs\\python\\python37\\lib\\site-packages (from requests->secml) (2.0.5)\n",
      "Requirement already satisfied: certifi>=2017.4.17 in c:\\users\\31360\\appdata\\local\\programs\\python\\python37\\lib\\site-packages (from requests->secml) (2023.7.22)\n",
      "Requirement already satisfied: typing-extensions in c:\\users\\31360\\appdata\\local\\programs\\python\\python37\\lib\\site-packages (from kiwisolver>=1.0.1->matplotlib>=3->secml) (4.7.1)\n"
     ]
    }
   ],
   "source": [
    "!pip install secml\n",
    "from secml.data import CDataset\n",
    "from secml.data.splitter import CDataSplitterKFold\n",
    "from secml.ml.classifiers import CClassifierSVM\n",
    "from secml.ml.peval.metrics import CMetricAccuracy\n",
    "from secml.ml.peval.metrics import CMetricConfusionMatrix\n",
    "from secml.adv.attacks.evasion import CAttackEvasionPGD\n",
    "import numpy as np\n",
    "import pandas as pd\n",
    "from sklearn.feature_extraction.text import TfidfVectorizer\n",
    "# from Feature_extraction import single_transform\n",
    "import csv\n",
    "from statistics import mean, stdev\n",
    "import threading\n",
    "import time\n",
    "import matplotlib.pyplot as plt\n",
    "import seaborn as sns\n",
    "\n",
    "def plot_confusion_matrix(cm, title='Confusion Matrix', cmap=plt.cm.Blues):\n",
    "    \"\"\"\n",
    "    This function prints and plots the confusion matrix.\n",
    "    \"\"\"\n",
    "    classes = ['Negative', 'Positive']\n",
    "    plt.figure(figsize=(3, 3))\n",
    "    sns.heatmap(cm, annot=True, fmt=\"d\", cmap=cmap, xticklabels=classes, yticklabels=classes)\n",
    "    plt.ylabel('True Label')\n",
    "    plt.xlabel('Predicted Label')\n",
    "    plt.title(title)\n",
    "    plt.show()\n",
    "    \n",
    "\n",
    "def train_SVM(x_train_features, x_val_features, y_train, y_val):\n",
    "    print(\"Start training SVM:\")\n",
    "    \n",
    "    # Create a dataset object that combines training data and label so that they're organized and ready for SVM to learn form.\n",
    "    tr_set = CDataset(x_train_features, y_train)\n",
    "    \n",
    "    # Divide data into \"folds\" or chunks for cross-validation\n",
    "    # It is conducive for training and testing the classifier on different subsets of the data.\n",
    "    xval_splitter = CDataSplitterKFold()\n",
    "    \n",
    "    # Setting up an SVM classifier\n",
    "    clf_lin = CClassifierSVM()\n",
    "    \n",
    "    # 'C' controls the trade-off between getting as many training points correctly classified as possible \n",
    "    # and finding the widest possible decision margin (or the gap between data points from different classes).\n",
    "    xval_lin_params = {'C': [0.1, 1, 10, 100]}\n",
    "    \n",
    "    # Try out the 'C' on different parts of data to see which gives the best accuracy.\n",
    "    best_lin_params = clf_lin.estimate_parameters( \n",
    "        dataset=tr_set,\n",
    "        parameters=xval_lin_params,\n",
    "        splitter=xval_splitter,\n",
    "        metric='accuracy',\n",
    "        perf_evaluator='xval'   # adopt Cross-Validation\n",
    "    )\n",
    "    print(\"The best training parameters are: \", \n",
    "          [(k, best_lin_params[k]) for k in sorted(best_lin_params)])\n",
    "    \n",
    "    # Use the best parameterer to train the classifiler\n",
    "    clf_lin.fit(tr_set.X, tr_set.Y)\n",
    "\n",
    "    # Test the Classifier by validation data set\n",
    "    v_set = CDataset(x_val_features, y_val)\n",
    "    # Use trained classifier to predict the validation data, calculate the accuracy of the valadation data\n",
    "    y_pred = clf_lin.predict(v_set.X)\n",
    "    metric = CMetricAccuracy()\n",
    "    acc = metric.performance_score(y_true=v_set.Y, y_pred=y_pred)\n",
    "    \n",
    "    # Calculate and plot the confusion matrix of validation data\n",
    "    confusion_matrix = CMetricConfusionMatrix()\n",
    "    cm = confusion_matrix.performance_score(y_true=v_set.Y, y_pred=y_pred)\n",
    "    plot_confusion_matrix(np.array(cm.tondarray()))\n",
    "    \n",
    "    return tr_set, v_set, clf_lin"
   ]
  },
  {
   "cell_type": "markdown",
   "metadata": {
    "id": "5rKjzZTCO5N2"
   },
   "source": [
    "## **5. PGD Attack**\n",
    "Our approach is based on successful adversarial perturbations made to model input features. We employ the Projected Gradient Descent (PGD) method to modify numeric feature values in the feature domain. PGD algorithm iteratively finds the needed changes with a constraint, *dmax*, which is the Euclidean distance to the original features indicating the allowed level of perturbations, to achieve the maximum loss in classification. In our approach, we run PGD over a set of spam emails and generate adversarial examples. Then we test these modified feature vectors to see whether they could successfully bypass the detection (i.e., being classified as ham).\n",
    "\n",
    "**Run the code block below:**"
   ]
  },
  {
   "cell_type": "code",
   "execution_count": 5,
   "metadata": {
    "id": "lCvPfWA-P1OG"
   },
   "outputs": [],
   "source": [
    "def pgd_attack(clf_lin, tr_set, v_set, y_val, feature_names, nb_attack, dmax, lb, ub):\n",
    "\n",
    "    class_to_attack = 1\n",
    "    cnt = 0  # the number of success adversaril examples\n",
    "\n",
    "    ori_examples2_x = []\n",
    "    ori_examples2_y = []\n",
    "\n",
    "    # Randomly select samples from the validation dataset for the attack.\n",
    "    # The reason why choose validation dataset:\n",
    "    #  - Test the model's ability to handle adversarial inputs that are as realistic as possible, \n",
    "    #  - mimicking the behavior it would need to handle in the real world.\n",
    "    for i in range(nb_attack):\n",
    "        # looking for indices of elements where y_val is equal to class_to_attack.\n",
    "        idx_candidates = np.where(y_val == class_to_attack)\n",
    "        # Randomly select a samples\n",
    "        rn = np.random.choice(idx_candidates[0].size, 1)\n",
    "        x0, y0 = v_set[idx_candidates[0][rn[0]], :].X, v_set[idx_candidates[0][rn[0]], :].Y\n",
    "\n",
    "        x0 = x0.astype(float)\n",
    "        y0 = y0.astype(int)\n",
    "        x2 = x0.tondarray()[0]\n",
    "        y2 = y0.tondarray()[0]\n",
    "\n",
    "        ori_examples2_x.append(x2)\n",
    "        ori_examples2_y.append(y2)\n",
    "\n",
    "    # Setting parameters for PGD attack\n",
    "    solver_params = {\n",
    "        'eta': 0.01,\n",
    "        'max_iter': 1000,\n",
    "        'eps': 1e-4}\n",
    "    \n",
    "    # Type of perturbation 'l1' or 'l2'\n",
    "    noise_type = 'l2'  \n",
    "    y_target = 0\n",
    "    \n",
    "    # Initialize the PGD attack\n",
    "    pgd_attack = CAttackEvasionPGD(\n",
    "        classifier=clf_lin,\n",
    "        double_init_ds=tr_set,\n",
    "        distance=noise_type,\n",
    "        dmax=dmax,\n",
    "        lb=lb, ub=ub,\n",
    "        solver_params=solver_params,\n",
    "        y_target=y_target\n",
    "    )\n",
    "\n",
    "    ad_examples_x = []    # adversarial examples\n",
    "    ad_examples_y = []    # predicted labels\n",
    "    ad_index = []         # indices of successful adversarial attacks\n",
    "    cnt = 0               # the number of successful adversarial examples\n",
    "    for i in range(len(ori_examples2_x)):\n",
    "        x0 = ori_examples2_x[i]\n",
    "        y0 = ori_examples2_y[i]\n",
    "        \n",
    "        # y_pred_pgd  - The predicted label of the adversarial example.\n",
    "        # adv_ds_pgd  - The adversarially perturbed data generated by the PGD attack\n",
    "        y_pred_pgd, _, adv_ds_pgd, _ = pgd_attack.run(x0, y0)\n",
    "        \n",
    "        # Check Attack Success\n",
    "        if y_pred_pgd.item() == 0:\n",
    "            cnt = cnt + 1\n",
    "            ad_index.append(i)\n",
    "\n",
    "        ad_examples_x.append(adv_ds_pgd.X.tondarray()[0])\n",
    "        ad_examples_y.append(y_pred_pgd.item())\n",
    "\n",
    "        #attack_pt = adv_ds_pgd.X.tondarray()[0]\n",
    "        \n",
    "    print(\"\\tPGD attack successful rate:\", cnt / nb_attack)\n",
    "    startTime2 = time.time()\n",
    "    \n",
    "    # Convert Lists to Arrays\n",
    "    ori_examples2_x = np.array(ori_examples2_x)\n",
    "    ori_examples2_y = np.array(ori_examples2_y)\n",
    "    ad_examples_x = np.array(ad_examples_x)\n",
    "    ad_examples_y = np.array(ad_examples_y)\n",
    "     \n",
    "    # Creates pandas DataFrames from the NumPy arrays of original and adversarial examples\n",
    "    ori_dataframe = pd.DataFrame(ori_examples2_x, columns=feature_names)\n",
    "    ad_dataframe = pd.DataFrame(ad_examples_x, columns=feature_names)\n",
    "\n",
    "    # Adds the adversarial labels\n",
    "    ad_dataframe['ad_label'] = ad_examples_y\n",
    "    # Separate out the successful and failed adversarial attacks \n",
    "    ad_success = ad_dataframe.loc[ad_dataframe.ad_label == 0]\n",
    "    ori_success = ori_dataframe.loc[ad_dataframe.ad_label == 0]\n",
    "    ad_fail = ad_dataframe.loc[ad_dataframe.ad_label == 1]\n",
    "    ori_fail = ori_dataframe.loc[ad_dataframe.ad_label == 1]\n",
    "\n",
    "    ad_success_x = ad_success.drop(columns=['ad_label'])\n",
    "    ad_fail_x = ad_fail.drop(columns=['ad_label'])\n",
    "\n",
    "    result = (ad_success_x - ori_success)\n",
    "    ori_dataframe.to_csv('ori_dataframe.csv')\n",
    "    ad_dataframe.to_csv('ad_dataframe.csv')\n",
    "    result.to_csv('result.csv')\n",
    "    \n",
    "    return result, cnt, ad_success_x, ori_dataframe, ori_examples2_y, cnt/nb_attack"
   ]
  },
  {
   "cell_type": "markdown",
   "metadata": {
    "id": "7xUx6FBQiCBr"
   },
   "source": [
    "## **6. Magical Words**\n",
    "Adversarial emails are crafted by adding “magic words” to the original spam emails. The “magic words” are identified by intersecting the unique ham words with the “top words” identified during the adversarial perturbations. Specifically, the unique ham words are the words that only appear in ham emails but not in spam emails. After the PGD attack on the set of spam emails, we find which features are modified to the largest extent to bypass the detection. We then select a list of “top words” whose feature values have been changed the most. (The changes are measured by the variance of differences before and after the PGD perturbation.) In our experiments, we use the top 100 words, which is efficient. This set is relatively small and demonstrates a high success rate with the resulting magic words to fool the classifier. \n",
    "\n",
    "**Run the code block below:**"
   ]
  },
  {
   "cell_type": "code",
   "execution_count": 6,
   "metadata": {
    "id": "Mc552xOTSQZn"
   },
   "outputs": [],
   "source": [
    "def magical_word(x_train, x_val, y_train, y_val, result, cnt):\n",
    "    x2result1 = result\n",
    "    x2result1 = np.array(x2result1)\n",
    "    x2result = result\n",
    "    x2result = x2result.multiply(x2result1)\n",
    "    \n",
    "    # Save the top 100 features to the x2result.csv\n",
    "    sum_number = x2result.sum() / cnt\n",
    "    sum_number = pd.DataFrame(sum_number, columns=['sum_number'])\n",
    "    sum_number = sum_number.sort_values(\n",
    "        by='sum_number', ascending=False, inplace=False)\n",
    "    sum_number_pd = pd.DataFrame(sum_number.index[:100])\n",
    "    sum_number_pd.to_csv(\"x2result.csv\")\n",
    "    \n",
    "    # combine training and validation messages\n",
    "    d = {'message': x_train, 'label': y_train}\n",
    "    df = pd.DataFrame(data=d)\n",
    "    d1 = {'message': x_val, 'label': y_val}\n",
    "    df1 = pd.DataFrame(data=d1)\n",
    "    frames = [df, df1]\n",
    "    messages = pd.concat(frames)\n",
    "    messages.to_csv(\"messages_train_val.csv\")\n",
    "    spam = messages[messages.label == 1]\n",
    "    ham = messages[messages.label == 0]\n",
    "\n",
    "    # Tf-idf for spam datasets\n",
    "    vect_spam = TfidfVectorizer()\n",
    "    vect_spam.fit_transform(spam['message'])\n",
    "    header_spam = vect_spam.get_feature_names_out()\n",
    "\n",
    "    # Tf-idf for ham datasets\n",
    "    vect_ham = TfidfVectorizer()\n",
    "    vect_ham.fit_transform(ham['message'])\n",
    "    header_ham = vect_ham.get_feature_names_out()\n",
    "\n",
    "    # find unique ham words\n",
    "    ham_unique = list(set(header_ham).difference(set(header_spam)))\n",
    "    header_ham1 = pd.DataFrame(ham_unique)\n",
    "    header_ham1.to_csv(\"ham_unique.csv\")\n",
    "    \n",
    "\n",
    "    # Find the intersection of the unique ham words and the top 100 features, \n",
    "    # It indicates important words that are unique to ham messages.\n",
    "    with open(\"x2result.csv\", \"r\") as csvfile:\n",
    "        reader = csv.reader(csvfile)\n",
    "        top100_features = []\n",
    "        for row in reader:\n",
    "            top100_features.append(row[1])\n",
    "    top100_features = top100_features[1:]    \n",
    "    \n",
    "    ham_unique_in_top = list(set(ham_unique).intersection(set(top100_features)))\n",
    "    \n",
    "    words14str = \"\"\n",
    "    for item in ham_unique_in_top:\n",
    "        words14str = words14str + \" \" + item\n",
    "    return words14str, spam, ham"
   ]
  },
  {
   "cell_type": "markdown",
   "metadata": {
    "id": "d9e3VAwouiQK"
   },
   "source": [
    "## **7. Crafting Adversarial Emails & Attacking SVM**\n",
    "We can insert the identified \"magic words\" to original spam emails. This proccess is what we called \"crafting adversarial emails\". Then, we feed the new feature vectors of these crafted emails to the SVM classifier to see if they can be misclassified as ham emails.\n",
    "\n",
    "**Run the code block below:**\n"
   ]
  },
  {
   "cell_type": "code",
   "execution_count": 10,
   "metadata": {
    "id": "PxY8tJakw2yv"
   },
   "outputs": [],
   "source": [
    "m2_empty = pd.DataFrame()\n",
    "spam_cnt = 0\n",
    "threads = []\n",
    "m2_empty_l1 = pd.DataFrame()\n",
    "m2_empty_l2 = pd.DataFrame()\n",
    "m2_empty_l3 = pd.DataFrame()\n",
    "m2_empty_l4 = pd.DataFrame()\n",
    "m2_list = [m2_empty_l1, m2_empty_l2, m2_empty_l3, m2_empty_l4]\n",
    "\n",
    "class myThread(threading.Thread):\n",
    "\n",
    "    def __init__(self, threadID, name, spam_message, words14str, method, feature_model, feature_names, scaler, clf_lin, list_index, selection_model):\n",
    "        threading.Thread.__init__(self)\n",
    "        self.threadID = threadID\n",
    "        self.name = name\n",
    "        self.spam_message = spam_message\n",
    "        self.words14str = words14str\n",
    "        self.method = method\n",
    "        self.feature_model = feature_model\n",
    "        self.feature_names = feature_names\n",
    "        self.scaler = scaler\n",
    "        self.clf_lin = clf_lin\n",
    "        self.list_index = list_index\n",
    "        self.lock = threading.Lock()\n",
    "        self.selection_model = selection_model\n",
    "\n",
    "    def run(self):\n",
    "        global spam_cnt  # Count the number of successful attacks (spam messages that are misclassified as ham).\n",
    "        print(\"Starting \" + self.name)\n",
    "        spam_cnt_1 = m2_empty_out(self.name, self.spam_message, self.words14str, self.method,\n",
    "                                  self.feature_model, self.feature_names, self.scaler, self.clf_lin,\n",
    "                                  self.list_index, self.selection_model)\n",
    "        spam_cnt = spam_cnt+spam_cnt_1\n",
    "        time.sleep(0.1)\n",
    "        print(\"Exiting \" + self.name)\n",
    "\n",
    "# Crafting Email\n",
    "def m2_empty_out(name, spam_message, words14str, method, feature_model, feature_names, scaler, clf_lin, list_index, selection_model):\n",
    "    m2_empty_1 = pd.DataFrame()  # Store messages that successfully deceived the model\n",
    "    spam_cnt_1 = 0               # The number of successful deceptions\n",
    "    global m2_list               # Store results from different threads\n",
    "    \n",
    "    for j in spam_message.message:\n",
    "        choose_email = [j + words14str]                                    # append magic words\n",
    "        message_14_email = pd.DataFrame(choose_email, columns=[\"message\"]) # Adversarial Email\n",
    "        message_14_tf_idf = single_transform(                              # Convet \n",
    "            message_14_email[\"message\"], method, feature_model, feature_names, scaler, selection_model)\n",
    "        message_14_tf_idf = pd.DataFrame(\n",
    "            message_14_tf_idf.toarray(), columns=feature_names)\n",
    "        message_14_y = [1]\n",
    "        message_14_y = pd.Series(message_14_y)\n",
    "        message_CData = CDataset(message_14_tf_idf, message_14_y)\n",
    "        message_14_pred = clf_lin.predict(message_CData.X)\n",
    "\n",
    "        if message_14_pred == 0:\n",
    "            spam_cnt_1 = spam_cnt_1 + 1\n",
    "            m2_empty_1 = m2_empty_1.append(\n",
    "                message_14_tf_idf, ignore_index=True)\n",
    "\n",
    "    m2_list[list_index] = m2_list[list_index].append(\n",
    "        m2_empty_1, ignore_index=True)\n",
    "\n",
    "    return spam_cnt_1\n",
    "\n",
    "\n",
    "\n",
    "def svm_attack(method, clf_lin, spam, words14str, feature_model, feature_names, scaler, selection_model):\n",
    "\n",
    "    global m2_empty\n",
    "\n",
    "    spam_messages = np.array_split(spam, 4)\n",
    "    print(\"Start processing message\")\n",
    "    thread1 = myThread(1, \"Thread-1\", spam_messages[0], words14str,\n",
    "                       method, feature_model, feature_names, scaler, clf_lin, 0, selection_model)\n",
    "    thread2 = myThread(2, \"Thread-2\", spam_messages[1], words14str,\n",
    "                       method, feature_model, feature_names, scaler, clf_lin, 1, selection_model)\n",
    "    thread3 = myThread(3, \"Thread-3\", spam_messages[2], words14str,\n",
    "                       method, feature_model, feature_names, scaler, clf_lin, 2, selection_model)\n",
    "    thread4 = myThread(4, \"Thread-4\", spam_messages[3], words14str,\n",
    "                       method, feature_model, feature_names, scaler, clf_lin, 3, selection_model)\n",
    "    threads.append(thread1)\n",
    "    threads.append(thread2)\n",
    "    threads.append(thread3)\n",
    "    threads.append(thread4)\n",
    "    for t in threads:\n",
    "        t.start()\n",
    "    for t in threads:\n",
    "        t.join()\n",
    "\n",
    "    m2_empty = m2_empty.append(m2_list[0], ignore_index=True)\n",
    "    m2_empty = m2_empty.append(m2_list[1], ignore_index=True)\n",
    "    m2_empty = m2_empty.append(m2_list[2], ignore_index=True)\n",
    "    m2_empty = m2_empty.append(m2_list[3], ignore_index=True)\n",
    "\n",
    "    print(\"Exiting Main Thread\")\n",
    "    print('White box attack with length on SVM:')\n",
    "    print('Number of samples provided:', len(spam))\n",
    "    print('Number of crafted sample that got misclassified:', spam_cnt)\n",
    "    print('Successful rate:', spam_cnt / len(spam))\n",
    "\n",
    "    return m2_empty"
   ]
  },
  {
   "cell_type": "markdown",
   "metadata": {
    "id": "-KIQP6h8VzVq"
   },
   "source": [
    "## **Tasks**\n",
    "### **Task 1** ### \n",
    "Integrate the steps 1-7 above into one function in the below code block.\n",
    "This function only has two inputs, with the method for feature extraction and the dmax we would use for PGD attacks. This function should return the set of magic words identified and print out the success rate in step 7. \\\\\n",
    "\n",
    "Hint: You can change the method of feature extraction by changing the value of the \"method\" variable."
   ]
  },
  {
   "cell_type": "code",
   "execution_count": 11,
   "metadata": {
    "id": "penr97JhaHgq"
   },
   "outputs": [],
   "source": [
    "def all_in_one(FE_method, PGD_dmax):\n",
    "    print('\\n===================== Step 1: Data Extraction =====================')\n",
    "    X_train, X_val, X_test, Y_train, Y_val, Y_test = data_extraction()\n",
    "    print('Length of data for training:    ' + str(len(X_train)))\n",
    "    print('Length of data for testing:     ' + str(len(X_test)))\n",
    "    print('Length of data for validation: ', str(len(X_val)))\n",
    "    \n",
    "    print('\\n===================== Step 2: Preprocessing ========================')\n",
    "    x_train, x_val, x_test = preprocess(X_train, X_val, X_test)\n",
    "    \n",
    "    print('\\n===================== Step 3: Feature Extraction ===================')\n",
    "    x_train_features, x_test_features, x_val_features, feature_names, feature_model, scalar = feature_extraction(x_train, x_test, x_val, FE_method)\n",
    "    \n",
    "    print('\\n===================== Step 4: Training Classifier ==================')\n",
    "    # Train an SVM classifier using the TFIDF values extracted.\n",
    "    tr_set, v_set, clf_lin = train_SVM(x_train_features, x_val_features, Y_train, Y_val)\n",
    "    \n",
    "    print('\\n===================== Step 5: PGD Attack ===========================')\n",
    "    # Run PGD attacks on the trained classifier with 100 spam emails.\n",
    "    lb = np.ndarray.min(x_train_features.toarray())\n",
    "    ub = np.ndarray.max(x_train_features.toarray())\n",
    "    attack_amount = 100\n",
    "    result, cnt, ad_success_x, ori_dataframe, ori_examples2_y, successful_rate = pgd_attack(clf_lin, tr_set, v_set, Y_val, feature_names, attack_amount, PGD_dmax, lb, ub)\n",
    "    \n",
    "    print('\\n===================== Step 6: Magic Words ===========================')\n",
    "    words14str, spam, ham = magical_word(X_train, X_val, Y_train, Y_val, result, cnt)\n",
    "    print(words14str)\n",
    "    \n",
    "    print('\\n============== Step 7: Crafting Adversarial Emails & Attacking SVM ===============')\n",
    "    # we craft a set of spam emails and feed them to the trained classifier for testing. \n",
    "    # It prints out the success rate of this attack.\n",
    "    m2_empty = svm_attack(FE_method, clf_lin, spam, words14str, feature_model, feature_names, scalar, 'NaN')\n",
    "\n",
    "    return words14str"
   ]
  },
  {
   "cell_type": "code",
   "execution_count": null,
   "metadata": {
    "tags": []
   },
   "outputs": [
    {
     "name": "stdout",
     "output_type": "stream",
     "text": [
      "\n",
      "===================== Step 1: Data Extraction =====================\n",
      "Length of data for training:    1480\n",
      "Length of data for testing:     463\n",
      "Length of data for validation:  371\n",
      "\n",
      "===================== Step 2: Preprocessing ========================\n",
      "\n",
      "===================== Step 3: Feature Extraction ===================\n"
     ]
    }
   ],
   "source": [
    "#FE_method = \"TFIDF\"\n",
    "FE_method = \"word2vec\"\n",
    "PGD_dmax = 0.02\n",
    "magic_words = all_in_one(FE_method, PGD_dmax)\n",
    "magic_words_set = magic_words.lstrip().split(' ')\n",
    "print('Number of magic words:', len(magic_words_set))\n",
    "print('Set of magic words:\\n', magic_words_set)"
   ]
  },
  {
   "cell_type": "markdown",
   "metadata": {
    "id": "34D9Gts3bKTv"
   },
   "source": [
    "### **Task 2** ###\n",
    "Using the function you write for Task 1, run it for 5 times with dmax being 0.02, 0.04, 0.06, 0.08, and 0.1 respectively and repeat this for each feature extraction method being TF-IDF and modified Word2vec. Record the magic word attack success rate and the number of magic words each time and fill in the table below by changing the \"dmax =\" with the actual success rate:"
   ]
  },
  {
   "cell_type": "markdown",
   "metadata": {
    "id": "JcGletlYgMHF"
   },
   "source": [
    "  / | TF-IDF |/\n",
    "-------------------|------------------|------------------\n",
    "dmax = 0.02| success rate = 0.6136 | # magic words = 31\n",
    "dmax = 0.04| success rate = 0.5779 | # magic words = 27\n",
    "dmax = 0.06| success rate = 0.5681 | # magic words = 26\n",
    "dmax = 0.08| success rate = 0.5519 | # magic words = 24\n",
    "dmax = 0.1| success rate = 0.5681 | # magic words = 26"
   ]
  },
  {
   "cell_type": "markdown",
   "metadata": {
    "id": "hhv1k1i1F3X_"
   },
   "source": [
    "  / | Word2vec |/\n",
    "-------------------|------------------|------------------\n",
    "dmax = 0.02| success rate = 0.6590 | # magic words = 27\n",
    "dmax = 0.04| success rate = 0.6590 | # magic words = 27\n",
    "dmax = 0.06| success rate = 0.6590 | # magic words = 27\n",
    "dmax = 0.08| success rate = 0.6590 | # magic words = 27\n",
    "dmax = 0.1 | success rate = 0.6590 | # magic words = 27"
   ]
  },
  {
   "cell_type": "markdown",
   "metadata": {
    "id": "_gzZc4jRiclT"
   },
   "source": [
    "### **Task 3** ###\n",
    "Draw a line graph with the x axis being dmax and the y axis being the attack success rate for each feature extraction method. You will have two plots in this graph. \\\\\n",
    "Answer the questions below: \\\\\n",
    "\n",
    "1.   Which feature extraction method can generate the highest ever magic word attack success rate in all the results?\n",
    "2.   Which feature extraction method do you think is the best to resist such attacks? Please explain your choice using the results. \n",
    "\n"
   ]
  },
  {
   "cell_type": "code",
   "execution_count": 3,
   "metadata": {
    "id": "8F1_bMUJjgre"
   },
   "outputs": [],
   "source": [
    "# Code for drawing graph"
   ]
  },
  {
   "cell_type": "markdown",
   "metadata": {
    "id": "jOIYXQ2Vjk6Y"
   },
   "source": [
    "Your answers to the two questions:"
   ]
  },
  {
   "cell_type": "markdown",
   "metadata": {
    "id": "IpuBzQoSkQKM"
   },
   "source": [
    "### **Task 4** ###\n",
    "Please complete the following (in a black-box attack scenario):\n",
    "1. Select a set of maigc words with the highest success rate in task 2\n",
    "2. Train KNN classifiers with the same training dataset provided and the two feature extraction methods you have used to obtain the set of magic word you selected. Here you build two spam filters using a different algorithm. Please show the false negative rates on the testing dataset. \n",
    "3. Pick 100 spam emails and add the magic words to them. Feed them to the two KNN classifiers. Calculate the false negative rates. Can you tell whether the attacks are successful? "
   ]
  },
  {
   "cell_type": "code",
   "execution_count": 4,
   "metadata": {
    "id": "G2ACFQv_mPyr"
   },
   "outputs": [],
   "source": [
    "## Inject your code here"
   ]
  }
 ],
 "metadata": {
  "colab": {
   "provenance": []
  },
  "kernelspec": {
   "display_name": "Python 3 (ipykernel)",
   "language": "python",
   "name": "python3"
  },
  "language_info": {
   "codemirror_mode": {
    "name": "ipython",
    "version": 3
   },
   "file_extension": ".py",
   "mimetype": "text/x-python",
   "name": "python",
   "nbconvert_exporter": "python",
   "pygments_lexer": "ipython3",
   "version": "3.7.9"
  }
 },
 "nbformat": 4,
 "nbformat_minor": 4
}
